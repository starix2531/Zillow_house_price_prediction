{
 "cells": [
  {
   "cell_type": "code",
   "execution_count": 94,
   "metadata": {},
   "outputs": [],
   "source": [
    "import urllib.request\n",
    "import urllib.parse\n",
    "import urllib.error\n",
    "import ssl\n",
    "from urllib.request import Request, urlopen\n",
    "from bs4 import BeautifulSoup as BS\n",
    "import pandas as pd\n",
    "import re\n",
    "from datetime import datetime\n",
    "\n",
    "ctx = ssl.create_default_context()\n",
    "ctx.check_hostname = False\n",
    "ctx.verify_mode = ssl.CERT_NONE"
   ]
  },
  {
   "cell_type": "code",
   "execution_count": 42,
   "metadata": {},
   "outputs": [],
   "source": [
    "# extract information of houses on market in Fremont, 40 houses\n",
    "market_houses = []\n",
    "markethouse_url = 'https://www.zillow.com/fremont-ca/houses/?searchQueryState={%22pagination%22:{},%22mapBounds%22:{%22west%22:-122.24536320019531,%22east%22:-121.77157779980469,%22south%22:37.37488741627461,%22north%22:37.68364018147819},%22regionSelection%22:[{%22regionId%22:11540,%22regionType%22:6}],%22isMapVisible%22:true,%22mapZoom%22:11,%22filterState%22:{%22sortSelection%22:{%22value%22:%22globalrelevanceex%22},%22isCondo%22:{%22value%22:false},%22isMultiFamily%22:{%22value%22:false},%22isManufactured%22:{%22value%22:false},%22isLotLand%22:{%22value%22:false},%22isTownhouse%22:{%22value%22:false},%22isApartment%22:{%22value%22:false}},%22isListVisible%22:true}'\n",
    "market_req = Request(markethouse_url, headers = {'user-Agent':'Mozilla/5.0'})\n",
    "market_text = urlopen(market_req).read().decode(encoding=\"utf-8\", errors='ignore')\n",
    "market_soup = BS(market_text, 'html.parser')\n",
    "for link in market_soup.findAll('a',attrs = {'class':'list-card-link', 'tabindex':\"0\"}, href = True):\n",
    "    market_houses.append(link['href'])\n"
   ]
  },
  {
   "cell_type": "code",
   "execution_count": 43,
   "metadata": {},
   "outputs": [
    {
     "data": {
      "text/plain": [
       "40"
      ]
     },
     "execution_count": 43,
     "metadata": {},
     "output_type": "execute_result"
    }
   ],
   "source": [
    "len(market_houses)"
   ]
  },
  {
   "cell_type": "code",
   "execution_count": 60,
   "metadata": {},
   "outputs": [],
   "source": [
    "#create a empty dataframe\n",
    "house_df = pd.DataFrame()"
   ]
  },
  {
   "cell_type": "code",
   "execution_count": 5,
   "metadata": {},
   "outputs": [],
   "source": [
    "#informations on the first listing page of all 40 houses\n",
    "bds = []\n",
    "bath = []\n",
    "areas = []\n",
    "price_ls = []\n",
    "adr_ls = []\n",
    "\n",
    "\n",
    "req = Request(markethouse_url, headers = {'user-Agent':'Mozilla/5.0'})\n",
    "text = urlopen(req).read().decode(encoding=\"utf8\", errors='ignore')\n",
    "soup = BS(text, 'html.parser')\n",
    "    \n",
    "house_prices = soup.findAll('div', attrs = {'class':'list-card-price'})\n",
    "for price in house_prices:\n",
    "    price_ls.append(price.get_text())\n",
    "\n",
    "\n",
    "    \n",
    "#extract room info\n",
    "lists = soup.findAll('ul', attrs = {'class':'list-card-details'})\n",
    "details = soup.findAll('ul', attrs = {'class':'list-card-details'})\n",
    "#print(len(details))\n",
    "for detail in details:\n",
    "    #print(detail.li)\n",
    "    bds.append(detail.li.get_text())\n",
    "    bath.append(detail.li.next_sibling.get_text())\n",
    "    areas.append(detail.li.next_sibling.next_sibling.get_text())\n",
    "    \n",
    "#extract address info\n",
    "addresses = soup.findAll('address', attrs = {'class':'list-card-addr'})\n",
    "for address in addresses:\n",
    "    adr_ls.append(address.get_text())"
   ]
  },
  {
   "cell_type": "code",
   "execution_count": 45,
   "metadata": {},
   "outputs": [
    {
     "data": {
      "text/plain": [
       "40"
      ]
     },
     "execution_count": 45,
     "metadata": {},
     "output_type": "execute_result"
    }
   ],
   "source": [
    "len(bds)"
   ]
  },
  {
   "cell_type": "code",
   "execution_count": 56,
   "metadata": {},
   "outputs": [
    {
     "name": "stdout",
     "output_type": "stream",
     "text": [
      "['Single Family', '1971', 'Forced air', 'Central', '2 spaces', '5,662 sqft', '$574']\n",
      "['Single Family', '1967', 'Forced air', 'None', 'Attached Garage', '5,797 sqft', '$620']\n",
      "['Single Family', '1977', 'Forced air', 'Central', '2 spaces', '5,479 sqft', '$624']\n",
      "['Single Family', '1992', 'Forced air', 'Central', '2 spaces', '$40/month', '3,598 sqft', '$783']\n",
      "['Single Family', '1923', 'Wall', 'Wall', '2 spaces', '5,039 sqft', '$828']\n",
      "['Single Family', '1945', 'Forced air', 'Central', 'Attached Garage', 'None', '5,898 sqft', '$853']\n",
      "['Single Family', '1986', 'Forced air', 'Central', '2 spaces', '7,688 sqft', '$695']\n",
      "['Single Family', '1978', 'Forced air', 'None', '2 spaces', '$29/month', '1,973 sqft', '$553']\n",
      "['Single Family', '1990', 'Forced air', 'Central', '2 spaces', '9,578 sqft', '$492']\n",
      "['Single Family', '2014', 'Forced air', 'Central', '2 spaces', '$150/month', '2,225 sqft', '$712']\n",
      "['Single Family', '2010', 'Forced air', 'Central', '2 spaces', '$160/month', '4,534 sqft', '$556']\n",
      "['Single Family', '2001', 'Forced air', 'Central', '4 spaces', '$327/month', '0.59 acres', '$718']\n",
      "['Single Family', '1961', 'Forced air', 'Central', '2 spaces', '$44/month', '6,198 sqft', '$801']\n",
      "['Single Family', '2013', 'No Data', 'No Data', 'Detached Garage', '42.12 acres', '$2,241']\n",
      "['Single Family', '1968', 'Forced air', 'Central', '2 spaces', 'None', '8,001 sqft', '$854']\n",
      "['Single Family', '1958', 'Forced air', 'Central', '2 spaces', '7,056 sqft', '$640']\n",
      "['Single Family', '1988', 'Forced air', 'None', '2 spaces', '$81/month', '3,898 sqft', '$694']\n",
      "['Single Family', '2013', 'Forced air', 'Central', 'Attached Garage', '$150/month', '1,877 sqft', '$578']\n",
      "['Single Family', '1989', 'Forced air', 'Central', 'Attached Garage', '$60/month', '3,314 sqft', '$738']\n",
      "['Single Family', '1973', 'Forced air', 'Central', '2 spaces', '5,898 sqft', '$515']\n",
      "['Single Family', '1990', 'Baseboard, Forced air', 'Other', '1 space', '$504/month', 'No Data', '$628']\n",
      "['Single Family', '1986', 'No Data', 'No Data', 'Attached Garage', '6,098 sqft', '$609']\n",
      "['Single Family', '1959', 'Forced air', 'Central', '2 spaces', '6,198 sqft', '$738']\n",
      "['Single Family', '1970', 'Forced air', 'No Data', '2 spaces', '7,670 sqft', '$767']\n",
      "['Single Family', '1973', 'Forced air', 'Central', '2 spaces', '6,159 sqft', '$810']\n",
      "['Single Family', '2015', 'Forced air', 'Central', '3 spaces', '$150/month', '6,912 sqft', '$576']\n",
      "['Single Family', '1971', 'Forced air', 'Central', '3 spaces', '8,028 sqft', '$664']\n",
      "['Single Family', '1971', 'Forced air', 'Central', '2 spaces', '5,797 sqft', '$697']\n",
      "['Single Family', '1963', 'Forced air', 'Central', '2 spaces', '$15/month', '8,398 sqft', '$697']\n",
      "['Single Family', '2000', 'Forced air', 'Central, Solar', '4 spaces', '$327/month', '0.58 acres', '$795']\n",
      "['Single Family', '1921', 'No Data', 'None', '1 space', '6,751 sqft', '$1,060']\n",
      "['Single Family', '1957', 'Forced air', 'Central', '2 spaces', '6,599 sqft', '$883']\n",
      "['Single Family', '1999', 'Forced air', 'Central', '2 spaces', '7,270 sqft', '$560']\n",
      "['Single Family', '1991', 'Forced air', 'Central', '3 spaces', '8,859 sqft', '$709']\n",
      "['Single Family', '1949', 'Forced air', 'Central', 'Attached Garage', '9,809 sqft', '$606']\n",
      "['Single Family', '1962', 'Forced air', 'Central', 'Attached Garage', '5,998 sqft', '$636']\n",
      "['Single Family', '1959', 'Forced air', 'No Data', '2 spaces', '9,840 sqft', '$906']\n",
      "['Single Family', '1957', 'Forced air', 'No Data', '2 spaces', '7,226 sqft', '$632']\n",
      "['Single Family', '1993', 'Forced air', 'Central', '4 spaces', '20.68 acres', '$899']\n",
      "['Single Family', '1990', 'Forced air', 'Wall', '3 spaces', '$72/month', '0.3 acres', '$773']\n"
     ]
    }
   ],
   "source": [
    "#details after opening each url of a house\n",
    "\n",
    "lotsize = []\n",
    "year = []\n",
    "ac = []\n",
    "heat = []\n",
    "park = []\n",
    "price_sqft = []\n",
    "hoa = []\n",
    "\n",
    "elem = []\n",
    "mid =[]\n",
    "high=[]\n",
    "\n",
    "elem_s=[]\n",
    "mid_s=[]\n",
    "high_s=[]\n",
    "\n",
    "for url in market_houses:\n",
    "    req = Request(url, headers = {'user-Agent':'Mozilla/5.0'})\n",
    "    text = urlopen(req).read().decode(encoding=\"utf-8\", errors='ignore')\n",
    "    soup = BS(text, 'html.parser')\n",
    "    \n",
    "    #iterate all house url on first page, and scrape the lot_size, year, ac, heater, garage, price/sqft info\n",
    "    home_values = soup.findAll('span', attrs = {'class':'ds-body ds-home-fact-value'})\n",
    "    hv_ls = []\n",
    "    for value in home_values:\n",
    "        hv_ls.append(value.get_text())   \n",
    "    #print(hv_ls)\n",
    "    if len(hv_ls) == 0:\n",
    "        hv_ls = ['None']*8\n",
    "    elif len(hv_ls) == 8:\n",
    "        lotsize.append(hv_ls[-2])\n",
    "        hoa.append(hv_ls[5])\n",
    "        year.append(hv_ls[1])\n",
    "        ac.append(hv_ls[3])\n",
    "        heat.append(hv_ls[2])\n",
    "        park.append(hv_ls[4])\n",
    "        price_sqft.append(hv_ls[-1])\n",
    "    else:\n",
    "        lotsize.append(hv_ls[-2])\n",
    "        hoa.append('None')\n",
    "        year.append(hv_ls[1])\n",
    "        ac.append(hv_ls[3])\n",
    "        heat.append(hv_ls[2])\n",
    "        park.append(hv_ls[4])\n",
    "        price_sqft.append(hv_ls[-1])\n",
    "\n",
    "    #scrape school info    \n",
    "    schools = soup.findAll('div', attrs = {'class':'ds-nearby-schools-list'})\n",
    "    if len(schools) == 0:\n",
    "        scl = ['None', 'None', 'None']\n",
    "        scl_score = ['None', 'None', 'None']\n",
    "    elif len(list(schools[0].children)) == 0:\n",
    "        scl = ['None', 'None', 'None']\n",
    "        scl_score = ['None', 'None', 'None']\n",
    "    else:\n",
    "        scl = ['None', 'None', 'None']\n",
    "        scl_score = ['None', 'None', 'None']\n",
    "        for school in schools[0].children:  \n",
    "            #print(school.span.get_text())\n",
    "            grade = school.findAll('span')[3].get_text()\n",
    "            if grade == 'K-6' or grade == 'K-5' or grade == 'K-8':\n",
    "                scl[0] = school.a.get_text()\n",
    "                scl_score[0] = school.span.get_text()\n",
    "            if grade == '7-8' or grade == '6-8':\n",
    "                scl[1] = school.a.get_text()\n",
    "                scl_score[1] = school.span.get_text()\n",
    "            if grade == '9-12':\n",
    "                scl[2] = school.a.get_text()\n",
    "                scl_score[2] = school.span.get_text()\n",
    "    elem.append(scl[0])\n",
    "    mid.append(scl[1])\n",
    "    high.append(scl[2])\n",
    "    elem_s.append(scl_score[0])\n",
    "    mid_s.append(scl_score[1])\n",
    "    high_s.append(scl_score[2])\n"
   ]
  },
  {
   "cell_type": "code",
   "execution_count": 57,
   "metadata": {},
   "outputs": [
    {
     "data": {
      "text/plain": [
       "40"
      ]
     },
     "execution_count": 57,
     "metadata": {},
     "output_type": "execute_result"
    }
   ],
   "source": [
    "len(hoa)"
   ]
  },
  {
   "cell_type": "code",
   "execution_count": 61,
   "metadata": {},
   "outputs": [],
   "source": [
    "#add a columns to the empty dataframe\n",
    "house_df['bds']=bds\n",
    "house_df['bath']=bath\n",
    "house_df['areas']=areas\n",
    "house_df['lot_size']=lotsize\n",
    "house_df['year_built']=year\n",
    "house_df['a/c']=ac\n",
    "house_df['heater']=heat\n",
    "house_df['garage']=park\n",
    "house_df['price/sqft']=price_sqft\n",
    "house_df['elem_score']=elem_s\n",
    "house_df['middle_score']=mid_s\n",
    "house_df['high_score']=high_s\n",
    "house_df['elem_school'] = elem\n",
    "house_df['middle_school'] = mid\n",
    "house_df['high_school'] = high\n",
    "house_df['price'] = price_ls\n",
    "house_df['HOA'] = hoa\n",
    "house_df['address']=adr_ls"
   ]
  },
  {
   "cell_type": "code",
   "execution_count": 62,
   "metadata": {},
   "outputs": [
    {
     "data": {
      "text/html": [
       "<div>\n",
       "<style scoped>\n",
       "    .dataframe tbody tr th:only-of-type {\n",
       "        vertical-align: middle;\n",
       "    }\n",
       "\n",
       "    .dataframe tbody tr th {\n",
       "        vertical-align: top;\n",
       "    }\n",
       "\n",
       "    .dataframe thead th {\n",
       "        text-align: right;\n",
       "    }\n",
       "</style>\n",
       "<table border=\"1\" class=\"dataframe\">\n",
       "  <thead>\n",
       "    <tr style=\"text-align: right;\">\n",
       "      <th></th>\n",
       "      <th>bds</th>\n",
       "      <th>bath</th>\n",
       "      <th>areas</th>\n",
       "      <th>lot_size</th>\n",
       "      <th>year_built</th>\n",
       "      <th>a/c</th>\n",
       "      <th>heater</th>\n",
       "      <th>garage</th>\n",
       "      <th>price/sqft</th>\n",
       "      <th>elem_score</th>\n",
       "      <th>middle_score</th>\n",
       "      <th>high_score</th>\n",
       "      <th>elem_school</th>\n",
       "      <th>middle_school</th>\n",
       "      <th>high_school</th>\n",
       "      <th>price</th>\n",
       "      <th>HOA</th>\n",
       "      <th>address</th>\n",
       "    </tr>\n",
       "  </thead>\n",
       "  <tbody>\n",
       "    <tr>\n",
       "      <th>0</th>\n",
       "      <td>4 bds</td>\n",
       "      <td>2 ba</td>\n",
       "      <td>1,830 sqft</td>\n",
       "      <td>5,662 sqft</td>\n",
       "      <td>1971</td>\n",
       "      <td>Central</td>\n",
       "      <td>Forced air</td>\n",
       "      <td>2 spaces</td>\n",
       "      <td>$574</td>\n",
       "      <td>7</td>\n",
       "      <td>8</td>\n",
       "      <td>10</td>\n",
       "      <td>Brookvale Elementary School</td>\n",
       "      <td>Thornton Junior High School</td>\n",
       "      <td>American High School</td>\n",
       "      <td>$1,050,000</td>\n",
       "      <td>None</td>\n",
       "      <td>35465 Collier Pl, Fremont, CA 94536</td>\n",
       "    </tr>\n",
       "    <tr>\n",
       "      <th>1</th>\n",
       "      <td>3 bds</td>\n",
       "      <td>2 ba</td>\n",
       "      <td>1,612 sqft</td>\n",
       "      <td>5,797 sqft</td>\n",
       "      <td>1967</td>\n",
       "      <td>None</td>\n",
       "      <td>Forced air</td>\n",
       "      <td>Attached Garage</td>\n",
       "      <td>$620</td>\n",
       "      <td>7</td>\n",
       "      <td>8</td>\n",
       "      <td>10</td>\n",
       "      <td>Brookvale Elementary School</td>\n",
       "      <td>Thornton Junior High School</td>\n",
       "      <td>American High School</td>\n",
       "      <td>$999,888</td>\n",
       "      <td>None</td>\n",
       "      <td>35462 Ronda Ct, Fremont, CA 94536</td>\n",
       "    </tr>\n",
       "    <tr>\n",
       "      <th>2</th>\n",
       "      <td>3 bds</td>\n",
       "      <td>3 ba</td>\n",
       "      <td>1,440 sqft</td>\n",
       "      <td>5,479 sqft</td>\n",
       "      <td>1977</td>\n",
       "      <td>Central</td>\n",
       "      <td>Forced air</td>\n",
       "      <td>2 spaces</td>\n",
       "      <td>$624</td>\n",
       "      <td>6</td>\n",
       "      <td>5</td>\n",
       "      <td>7</td>\n",
       "      <td>Brier Elementary School</td>\n",
       "      <td>G. M. Walters Junior High School</td>\n",
       "      <td>John F. Kennedy High School</td>\n",
       "      <td>$898,000</td>\n",
       "      <td>None</td>\n",
       "      <td>4730 Mowry Ave, Fremont, CA 94538</td>\n",
       "    </tr>\n",
       "    <tr>\n",
       "      <th>3</th>\n",
       "      <td>3 bds</td>\n",
       "      <td>3 ba</td>\n",
       "      <td>1,593 sqft</td>\n",
       "      <td>3,598 sqft</td>\n",
       "      <td>1992</td>\n",
       "      <td>Central</td>\n",
       "      <td>Forced air</td>\n",
       "      <td>2 spaces</td>\n",
       "      <td>$783</td>\n",
       "      <td>8</td>\n",
       "      <td>8</td>\n",
       "      <td>10</td>\n",
       "      <td>Ardenwood Elementary School</td>\n",
       "      <td>Thornton Junior High School</td>\n",
       "      <td>American High School</td>\n",
       "      <td>$1,248,000</td>\n",
       "      <td>$40/month</td>\n",
       "      <td>34327 Eucalyptus Ter, Fremont, CA 94555</td>\n",
       "    </tr>\n",
       "    <tr>\n",
       "      <th>4</th>\n",
       "      <td>2 bds</td>\n",
       "      <td>1 ba</td>\n",
       "      <td>760 sqft</td>\n",
       "      <td>5,039 sqft</td>\n",
       "      <td>1923</td>\n",
       "      <td>Wall</td>\n",
       "      <td>Wall</td>\n",
       "      <td>2 spaces</td>\n",
       "      <td>$828</td>\n",
       "      <td>8</td>\n",
       "      <td>7</td>\n",
       "      <td>8</td>\n",
       "      <td>Niles Elementary School</td>\n",
       "      <td>Centerville Junior High</td>\n",
       "      <td>Washington High School</td>\n",
       "      <td>$629,000</td>\n",
       "      <td>None</td>\n",
       "      <td>361 Riverside Ave, Fremont, CA 94536</td>\n",
       "    </tr>\n",
       "  </tbody>\n",
       "</table>\n",
       "</div>"
      ],
      "text/plain": [
       "     bds  bath       areas    lot_size year_built      a/c      heater  \\\n",
       "0  4 bds  2 ba  1,830 sqft  5,662 sqft       1971  Central  Forced air   \n",
       "1  3 bds  2 ba  1,612 sqft  5,797 sqft       1967     None  Forced air   \n",
       "2  3 bds  3 ba  1,440 sqft  5,479 sqft       1977  Central  Forced air   \n",
       "3  3 bds  3 ba  1,593 sqft  3,598 sqft       1992  Central  Forced air   \n",
       "4  2 bds  1 ba    760 sqft  5,039 sqft       1923     Wall        Wall   \n",
       "\n",
       "            garage price/sqft elem_score middle_score high_score  \\\n",
       "0         2 spaces       $574          7            8         10   \n",
       "1  Attached Garage       $620          7            8         10   \n",
       "2         2 spaces       $624          6            5          7   \n",
       "3         2 spaces       $783          8            8         10   \n",
       "4         2 spaces       $828          8            7          8   \n",
       "\n",
       "                   elem_school                     middle_school  \\\n",
       "0  Brookvale Elementary School       Thornton Junior High School   \n",
       "1  Brookvale Elementary School       Thornton Junior High School   \n",
       "2      Brier Elementary School  G. M. Walters Junior High School   \n",
       "3  Ardenwood Elementary School       Thornton Junior High School   \n",
       "4      Niles Elementary School           Centerville Junior High   \n",
       "\n",
       "                   high_school       price        HOA  \\\n",
       "0         American High School  $1,050,000       None   \n",
       "1         American High School    $999,888       None   \n",
       "2  John F. Kennedy High School    $898,000       None   \n",
       "3         American High School  $1,248,000  $40/month   \n",
       "4       Washington High School    $629,000       None   \n",
       "\n",
       "                                   address  \n",
       "0      35465 Collier Pl, Fremont, CA 94536  \n",
       "1        35462 Ronda Ct, Fremont, CA 94536  \n",
       "2        4730 Mowry Ave, Fremont, CA 94538  \n",
       "3  34327 Eucalyptus Ter, Fremont, CA 94555  \n",
       "4     361 Riverside Ave, Fremont, CA 94536  "
      ]
     },
     "execution_count": 62,
     "metadata": {},
     "output_type": "execute_result"
    }
   ],
   "source": [
    "house_df.head()"
   ]
  },
  {
   "cell_type": "code",
   "execution_count": 12,
   "metadata": {},
   "outputs": [],
   "source": [
    "#find all links of 80 sold houses on the first 2 page of the search, sorted by newest to oldest\n",
    "soldpage_urls = ['https://www.zillow.com/fremont-ca/sold/house_type/?searchQueryState={%22pagination%22:{},%22mapBounds%22:{%22west%22:-122.24536320019531,%22east%22:-121.77157779980469,%22south%22:37.37488741627461,%22north%22:37.68364018147819},%22regionSelection%22:[{%22regionId%22:11540,%22regionType%22:6}],%22mapZoom%22:11,%22filterState%22:{%22isCondo%22:{%22value%22:false},%22isMultiFamily%22:{%22value%22:false},%22isManufactured%22:{%22value%22:false},%22isLotLand%22:{%22value%22:false},%22isTownhouse%22:{%22value%22:false},%22isApartment%22:{%22value%22:false},%22isRecentlySold%22:{%22value%22:true},%22isForSaleByAgent%22:{%22value%22:false},%22isForSaleByOwner%22:{%22value%22:false},%22isNewConstruction%22:{%22value%22:false},%22isComingSoon%22:{%22value%22:false},%22isAuction%22:{%22value%22:false},%22isForSaleForeclosure%22:{%22value%22:false},%22isPreMarketForeclosure%22:{%22value%22:false},%22isPreMarketPreForeclosure%22:{%22value%22:false}},%22isListVisible%22:true,%22isMapVisible%22:false}',\n",
    "                 'https://www.zillow.com/fremont-ca/sold/house_type/2_p/?searchQueryState={%22pagination%22:{%22currentPage%22:2},%22mapBounds%22:{%22west%22:-122.24536320019531,%22east%22:-121.77157779980469,%22south%22:37.37488741627461,%22north%22:37.68364018147819},%22regionSelection%22:[{%22regionId%22:11540,%22regionType%22:6}],%22mapZoom%22:11,%22filterState%22:{%22isCondo%22:{%22value%22:false},%22isMultiFamily%22:{%22value%22:false},%22isManufactured%22:{%22value%22:false},%22isLotLand%22:{%22value%22:false},%22isTownhouse%22:{%22value%22:false},%22isApartment%22:{%22value%22:false},%22isRecentlySold%22:{%22value%22:true},%22isForSaleByAgent%22:{%22value%22:false},%22isForSaleByOwner%22:{%22value%22:false},%22isNewConstruction%22:{%22value%22:false},%22isComingSoon%22:{%22value%22:false},%22isAuction%22:{%22value%22:false},%22isForSaleForeclosure%22:{%22value%22:false},%22isPreMarketForeclosure%22:{%22value%22:false},%22isPreMarketPreForeclosure%22:{%22value%22:false}},%22isListVisible%22:true,%22isMapVisible%22:false}']\n",
    "sold_urllist = []\n",
    "for url in soldpage_urls:\n",
    "    req = Request(url, headers = {'user-Agent':'Mozilla/5.0'})\n",
    "    text = urlopen(req).read().decode(encoding=\"utf-8\", errors='ignore')\n",
    "    soup = BS(text, 'html.parser')\n",
    "    for link in soup.findAll('a',attrs = {'class':'list-card-link', 'tabindex':\"0\"}, href = True):\n",
    "        \n",
    "        sold_urllist.append(link['href'])"
   ]
  },
  {
   "cell_type": "code",
   "execution_count": 13,
   "metadata": {},
   "outputs": [
    {
     "data": {
      "text/plain": [
       "40"
      ]
     },
     "execution_count": 13,
     "metadata": {},
     "output_type": "execute_result"
    }
   ],
   "source": [
    "len(sold_urllist[40:80])"
   ]
  },
  {
   "cell_type": "code",
   "execution_count": 14,
   "metadata": {},
   "outputs": [],
   "source": [
    "soldhouse_df = pd.DataFrame()"
   ]
  },
  {
   "cell_type": "code",
   "execution_count": 15,
   "metadata": {},
   "outputs": [],
   "source": [
    "#informations on the first listing page of all 40 houses\n",
    "bds_sold = []\n",
    "bath_sold = []\n",
    "areas_sold = []\n",
    "price_ls_sold = []\n",
    "adr_ls_sold = []\n",
    "sold_dates = []\n",
    "for url in soldpage_urls:\n",
    "    req_sold = Request(url, headers = {'user-Agent':'Mozilla/5.0'})\n",
    "    text_sold = urlopen(req_sold).read().decode(encoding=\"utf8\", errors='ignore')\n",
    "    soup_sold = BS(text_sold, 'html.parser')\n",
    "    \n",
    "    soldhouse_prices = soup_sold.findAll('div', attrs = {'class':'list-card-price'})\n",
    "    for price in soldhouse_prices:\n",
    "        price_ls_sold.append(price.get_text())\n",
    "\n",
    "\n",
    "    \n",
    "    #extract room info\n",
    "    lists_sold = soup_sold.findAll('ul', attrs = {'class':'list-card-details'})\n",
    "    details_sold = soup_sold.findAll('ul', attrs = {'class':'list-card-details'})\n",
    "    #print(len(details))\n",
    "    for detail in details_sold:\n",
    "        #print(detail.li)\n",
    "        bds_sold.append(detail.li.get_text())\n",
    "        bath_sold.append(detail.li.next_sibling.get_text())\n",
    "        areas_sold.append(detail.li.next_sibling.next_sibling.get_text())\n",
    "    \n",
    "    #extract address info\n",
    "    addresses_sold = soup_sold.findAll('address', attrs = {'class':'list-card-addr'})\n",
    "    for address in addresses_sold:\n",
    "        adr_ls_sold.append(address.get_text())\n",
    "        \n",
    "    #extract sold dates\n",
    "    dates = soup_sold.findAll('div', attrs={'class':'list-card-variable-text list-card-img-overlay'})\n",
    "    for date in dates:\n",
    "        sold_dates.append(date.get_text().split(' ')[1])"
   ]
  },
  {
   "cell_type": "code",
   "execution_count": 16,
   "metadata": {},
   "outputs": [],
   "source": [
    "#details after opening each url of a house\n",
    "lotsize_sold1 = []\n",
    "year_sold1 = []\n",
    "ac_sold1 = []\n",
    "heat_sold1 = []\n",
    "park_sold1 = []\n",
    "\n",
    "hoa_sold1 = []\n",
    "\n",
    "elem_sold1 = []\n",
    "mid_sold1 =[]\n",
    "high_sold1=[]\n",
    "\n",
    "elem_s_sold1=[]\n",
    "mid_s_sold1=[]\n",
    "high_s_sold1=[]\n",
    "\n",
    "neighborhood_sold1 = []\n",
    "\n",
    "for url in sold_urllist[0:40]:\n",
    "    #print(url)\n",
    "    req_sold1 = Request(url, headers = {'user-Agent':'Mozilla/5.0'})\n",
    "    text_sold1 = urlopen(req_sold1).read().decode(encoding=\"utf-8\", errors='ignore')\n",
    "    soup_sold1 = BS(text_sold1, 'html.parser')\n",
    "    \n",
    "    #iterate all house url on first page, and scrape the lot_size, year, ac, heater, garage, price/sqft info\n",
    "    home_values_sold1 = soup_sold1.findAll('div', attrs = {'class':'fact-value'})\n",
    "    hv_ls_sold1 = []\n",
    "    for value in home_values_sold1:\n",
    "        hv_ls_sold1.append(value.get_text())   \n",
    "    if len(hv_ls_sold1) == 0:\n",
    "        hv_ls_sold1 = ['None']*7\n",
    "    #print(hv_ls_sold1)   \n",
    "    lotsize_sold1.append(hv_ls_sold1[6])\n",
    "    hoa_sold1.append(hv_ls_sold1[5])\n",
    "    year_sold1.append(hv_ls_sold1[1])\n",
    "    ac_sold1.append(hv_ls_sold1[3])\n",
    "    heat_sold1.append(hv_ls_sold1[2])\n",
    "    park_sold1.append(hv_ls_sold1[4])\n",
    "\n",
    "    \n",
    "\n",
    "    #scrape school info    \n",
    "    schools1 = soup_sold1.findAll('li', attrs = {'class':'nearby-school assigned-school clearfix'})\n",
    "    if len(schools1) == 0:\n",
    "        scl1 = ['None', 'None', 'None']\n",
    "        scl_score1 = ['None', 'None', 'None']\n",
    "    else:\n",
    "        scl1 = ['None', 'None', 'None']\n",
    "        scl_score1 = ['None', 'None', 'None']\n",
    "        for school in schools1:  \n",
    "            #print(school.span.get_text())\n",
    "            grade = school.findAll('div')[5].get_text()\n",
    "            if grade == 'K-6' or grade == 'K-5' or grade == 'K-8':\n",
    "                scl1[0] = school.a.get_text()\n",
    "                scl_score1[0] = school.span.get_text()\n",
    "            if grade == '7-8' or grade == '6-8':\n",
    "                scl1[1] = school.a.get_text()\n",
    "                scl_score1[1] = school.span.get_text()\n",
    "            if grade == '9-12':\n",
    "                scl1[2] = school.a.get_text()\n",
    "                scl_score1[2] = school.span.get_text()\n",
    "    elem_sold1.append(scl1[0])\n",
    "    mid_sold1.append(scl1[1])\n",
    "    high_sold1.append(scl1[2])\n",
    "    elem_s_sold1.append(scl_score1[0])\n",
    "    mid_s_sold1.append(scl_score1[1])\n",
    "    high_s_sold1.append(scl_score1[2])\n",
    "    \n",
    "    #scrape Neiborhood info\n",
    "    for nb in soup_sold1.findAll(string=re.compile(\"^Neighborhood:\")):\n",
    "        neighborhood_sold1.append(nb.split(':')[1])\n"
   ]
  },
  {
   "cell_type": "code",
   "execution_count": 17,
   "metadata": {},
   "outputs": [
    {
     "data": {
      "text/plain": [
       "40"
      ]
     },
     "execution_count": 17,
     "metadata": {},
     "output_type": "execute_result"
    }
   ],
   "source": [
    "len(neighborhood_sold1)"
   ]
  },
  {
   "cell_type": "code",
   "execution_count": 52,
   "metadata": {},
   "outputs": [
    {
     "name": "stdout",
     "output_type": "stream",
     "text": [
      "['None', 'None', 'None', 'None', 'None', 'None', 'None']\n",
      "['None', 'None', 'None', 'None', 'None', 'None', 'None']\n",
      "['Single Family', '1963', 'Forced air, Wall', 'Central, Wall', '2 spaces', 'No Data', '6,534 sqft', '4', 'Stall Shower, Solid Surface', 'Shower Over Tub, Solid Surface', 'Dishwasher, Garbage Disposal, Range/Oven Free Standing, Counter - Solid Surface, Updated Kitchen, Breakfast Bar, Island, Skylight(s)', 'Dining Area, Bonus/Plus Room', 'In Garage, Hookups Only', '4 Bedrooms, 3 Baths', 'Forced air, Wall', 'Electric, Gas', 'Central, Wall', 'Forced Air 1 Zone, Wall Furnace, Electric, Gas', 'Ceiling Fan(s), No Air Conditioning, Window/Wall Unit(s)', 'Dishwasher, Garbage disposal, Range / Oven', '2,122 sqft', 'Carpet, Laminate, Tile', 'Hardwood Floors, Laminate, Tile, Carpet', '988', '8', 'Garage Door Opener, Window Coverings, Tankless Water Heater', '2', 'One Story', '1', 'Other', 'Single Family', 'RESIDENTIAL', 'Ranch', 'Composition', 'Stucco, Wood', 'Stucco, Wood Siding', 'Composition Shingles', 'Existing', '1975', 'Built in 1963', '0', 'Back Yard, Sprinklers Automatic, Fenced, Front Yard, Side Yard', '6,534 sqft', 'Level, Regular, Corner', '501127993', 'FREMONT', 'Attached Garage, 2 spaces', 'Attached Garage, Side Yard Access', 'Yes', 'Sewer System - Public, Water - Public', 'Public Records', 'Feb 2020 for $1,200,000', '$566', '2020-01-15', '115', '0 shoppers saved this home']\n",
      "['Single Family', '1960', 'Forced air', 'Central', '2 spaces', 'No Data', '7,440 sqft', '3', 'Stall Shower, Updated Baths', 'Shower Over Tub, Updated Baths', 'Gas Range/Cooktop, Refrigerator, Updated Kitchen, Island, Counter - Stone, Oven Built-in', 'In Garage, Hookups Only', '3 Bedrooms, Main Entry, 2 Baths', 'Basement Unfinished', 'Basement', 'Forced air', 'Gas', 'Central', 'Central 1 Zone A/C', 'Forced Air 1 Zone', 'Range / Oven, Refrigerator', '1,446 sqft', 'Laminate', 'Laminate', 'Fireplace', '6', 'Garage Door Opener, Water Heater Gas', '1', 'One Story', '1', 'Contemporary', 'Single Family', 'RESIDENTIAL', 'Contemporary, Ranch', 'Composition', 'Stucco, Wood', 'Double Pane/Storm Windows', 'Composition Shingles', 'Wood Siding, Dual Pane Windows, Siding - Stucco', 'Existing', '1961', 'Built in 1960', '0', 'Deck', 'Deck(s), Sprinklers Front, Back Yard, Front Yard', 'Territorial', 'Hills', '7,440 sqft', 'Level', '50769020', 'FREMONT', 'Attached Garage, 2 spaces', 'Attached Garage', 'Yes', 'Sewer System - Public, Water - Public', 'Public Records', 'Feb 2020 for $950,000', '$657', '2020-01-16', '74', '0 shoppers saved this home']\n",
      "['Single Family', '1995', 'Forced air', 'Other', 'Attached Garage', 'None', '0.54 acres', '5', '3 full, 1 half', 'Shower and Tub, Marble, Master - Stall Shower(s), Master - Sunken Tub', 'Microwave, Dishwasher, 220 Volt Outlet, Pantry, Countertop - Granite, Cooktop - Electric, Island, Oven - Electric, Refrigerator', 'Formal Dining Room, Breakfast Nook', 'Laundry Room, Bonus / Hobby Room, Den / Study / Office', 'Kitchen / Family Room Combo', 'Washer / Dryer', 'Forced air', 'Gas', 'Other', 'Central Forced Air - Gas', 'Ceiling Fan', 'None basement', 'Dishwasher, Dryer, Garbage disposal, Microwave, Range / Oven, Refrigerator, Washer', '4,158 sqft', 'Carpet, Tile', 'Carpet', 'Fireplace', '12', 'Living Room, Family Room, Master Bedroom', '1', 'Contemporary', 'Single Family', 'Detached', 'Residential', 'Contemporary', 'Exclusive Agency', 'Tile', 'Concrete Slab', 'Tile', '1995', 'Built in 1995', '2', 'Mountain', '0.54 acres', 'Square Feet', 'Square Feet', '51330557', 'Attached Garage', 'Attached Garage, Parking Area', 'Public', 'Public Utilities', 'Sewer - Public', '$0/mo', '0', 'Assessor', 'Feb 2020 for $2,450,000', '$589', 'Not Applicable', '73', '0 shoppers saved this home']\n",
      "['Single Family', '1962', 'Forced air', 'Central', 'Attached Garage', 'No Data', '6,634 sqft', '3', 'Stall Shower, Tub, Solid Surface, Tile, Skylight', 'Shower Over Tub, Tile, Solid Surface, Skylight', 'Counter - Tile, Dishwasher, Electric Range/Cooktop, Garbage Disposal, Microwave, Ice Maker Hookup, Updated Kitchen, Breakfast Bar, Trash Compactor', 'Dining Area, Family Room, Kitchen/Family Combo, Storage', 'In Garage, Hookups Only, 220 Volt Outlet', '3 Bedrooms, Main Entry, 2 Baths, Master Bedrm Suite - 1', 'Forced air', 'Gas', 'Central', 'Central 1 Zone A/C, Ceiling Fan(s)', 'Forced Air 1 Zone, Gas', 'Dishwasher, Garbage disposal, Microwave, Range / Oven, Trash compactor', '1,402 sqft', 'Carpet, Hardwood, Linoleum / Vinyl', 'Linoleum, Hardwood Floors, Carpet', '5', 'Garage Door Opener, Water Heater Gas, Satellite Dish - Owned', '1', 'One Story', 'Disabled Bath Feat', '1', 'Other', 'Single Family', 'RESIDENTIAL', 'Traditional', 'Composition', 'Brick, Stucco', 'Stucco, Brick, Dual Pane Windows', 'Composition Shingles', 'Existing', '1963', 'Built in 1962', '0', 'Patio, Patio Covered, Fenced, Front Yard, Side Yard, Tool Shed', 'Gas Heat, Gunite, In Ground, Spa, Pool Sweep, Pool Cover', 'Yes', '6,634 sqft', 'Level, Regular', '52597764', 'FREMONT', 'Attached Garage', 'Attached Garage, Int Access From Garage, Enclosed Garage', 'Yes', 'Sewer System - Public, Water - Public', 'Public Records', 'Feb 2020 for $1,015,000', '$724', '2020-01-21', '75', '0 shoppers saved this home']\n",
      "['Single Family', '1967', 'Forced air', 'Other', '2 spaces', 'No Data', '6,664 sqft', '4', 'Stall Shower, Solid Surface, Tile, Updated Baths', 'Shower Over Tub, Tile, Updated Baths, Solid Surface, Skylight', 'Dishwasher, Gas Range/Cooktop, Range/Oven Built-in, Updated Kitchen, Counter - Stone, Oven Built-in', 'In Laundry Room', 'Laundry Facility, 3 Bedrooms, Main Entry, 2 Baths, Master Bedrm Suite - 1', 'Dining Area, Family Room, Kitchen/Family Combo', 'Forced air', 'Other', 'Forced Air 1 Zone', 'Other', 'Dishwasher, Range / Oven', '1,558 sqft', 'Carpet, Laminate, Tile', 'Laminate, Tile, Carpet', 'Fireplace', '7', '1', 'One Story', '1', 'Other', 'Single Family', 'RESIDENTIAL', 'Ranch', 'Composition', 'Stucco, Wood', 'Skylight', 'Stucco, Wood Siding', 'Composition Shingles', 'Existing', '1968', 'Built in 1967', '1', 'Patio', 'Fenced Yard', 'Garden', 'Patio, Back Yard, Fenced, Front Yard, Garden/Play, Side Yard, Tool Shed', 'Mountain', 'Mountains', '6,664 sqft', 'Other', '525368', 'FREMONT', 'Attached Garage, 2 spaces', 'Attached Garage', 'Yes', 'Sewer System - Public, Water - Public', 'Public Records', 'Feb 2020 for $1,583,000', '$1,016', '2020-01-30', '168', '0 shoppers saved this home']\n",
      "['None', 'None', 'None', 'None', 'None', 'None', 'None']\n",
      "['None', 'None', 'None', 'None', 'None', 'None', 'None']\n",
      "['Single Family', '1953', 'Forced air', 'None', 'Carport, Off street, On street', 'No Data', '6,098 sqft', '3', 'Shower Over Tub, Tile, Updated Baths, Tub with Jets', 'Tile, Updated Baths, Shower Over Tub', 'Dishwasher, Garbage Disposal, Gas Range/Cooktop, Breakfast Bar, Counter - Stone, Self-Cleaning Oven', '3 Bedrooms, 1 Bedroom, Main Entry, 2 Baths, 2 Bedrooms', 'Hookups Only, In Unit', 'Other', 'Forced air', 'Gas', 'None', 'Forced Air 1 Zone, Gas', 'No Air Conditioning', 'Dishwasher, Garbage disposal, Range / Oven', '1,166 sqft', 'Laminate, Tile', 'Laminate, Tile', 'Fireplace', 'Vaulted Ceiling', '7', 'Storage', 'Water Heater Gas, Mirrored Closet Door(s), Tankless Water Heater', '1', 'One Story', 'Levels in Unit - 1', '1', 'Jetted Tub', 'Elevator', 'Gated Entry', 'Modern', 'Single Family', 'RESIDENTIAL', 'Mid Century Modern', 'Asphalt', 'Stucco', 'Double Pane/Storm Windows', 'Stucco, Dual Pane Windows', 'Tar and Gravel', 'Existing', '1953', 'Built in 1953', '0', 'Lawn', 'Fenced Yard', 'Garden', 'Patio, Sprinklers Back, Sprinklers Front, Back Yard, Fenced, Other, Front Yard, Garden/Play, Storage, Patio Enclosed', 'Mountain', '6,098 sqft', 'Level, Regular', '50161379', 'FREMONT', 'Carport, Off street, On street', 'RV Parking', 'RV/Boat Parking, Side Yard Access, Parking Area', 'Sprinkler System', 'Sewer System - Public', 'Public Records', 'Feb 2020 for $935,000', '$802', '2020-01-24', '165', '3 shoppers saved this home']\n",
      "['Single Family', '1971', 'No Data', 'No Data', 'No Data', '$289/month', '860 sqft', '3', '1,168 sqft', '6', '1', 'Other', 'Single Family', '1973', 'Built in 1971', '2', '860 sqft', '5011508172', '$289/mo', 'Feb 2020 for $590,000', '$505', '60', '0 shoppers saved this home']\n"
     ]
    },
    {
     "name": "stdout",
     "output_type": "stream",
     "text": [
      "['Single Family', '1998', 'Forced air', 'Central', 'Attached Garage', '$75/month', '5,937 sqft', '5', 'Ground Floor Bedroom, Master Suite / Retreat, Walk-in Closet', '3 full, 1 half', 'Showers over Tubs - 2+, Double Sinks, Marble, Master - Stall Shower(s)', 'Garbage Disposal, Pantry, Countertop - Granite, Island, Hood Over Range', 'Breakfast Nook, Dining Area in Living Room, Dining Bar', 'Separate Family Room, Kitchen / Family Room Combo', 'Laundry Room', 'In Utility Room', 'Forced air', 'Central', 'Central Forced Air', 'Central AC', 'Garbage disposal', '2,850 sqft', 'Carpet, Laminate, Tile', 'Tile, Laminate, Carpet', '9', 'Family Room', 'High Ceiling, Bay Window, Walk-in Closet', '1', 'Contemporary', 'Single Family', 'Detached', 'Residential', 'Contemporary', 'Exclusive Right to Sell', 'Tile', 'Concrete Slab', 'Tile', 'Brick (Reinforced), Stucco', '1998', 'Built in 1998', '0', '5,937 sqft', 'Square Feet', 'Square Feet', 'Regular', '51373929', 'Attached Garage', 'Attached Garage', 'Public', 'Public Utilities', 'Sewer - Public', 'Networked', '$75/mo', 'Maintenance - Common Area', '1', '75', 'Monthly', 'Assessor', 'Feb 2020 for $2,116,000', '$742', 'Not Applicable', '237', '2 shoppers saved this home']\n",
      "['Single Family', '2019', 'Forced air', 'No Data', 'Attached Garage', '$179/month', '1,376 sqft', '4', '3 full, 1 half', 'Stall Shower, Tub, Solid Surface', 'Shower Over Tub, Solid Surface, Stall Shower', 'Dishwasher, Garbage Disposal, Range/Oven Free Standing, Microwave, Counter - Solid Surface, Gas Range/Cooktop, Ice Maker Hookup, Island, Self-Cleaning Oven', 'In Laundry Room, Hookups Only, In Unit', '3 Bedrooms, Master Bedrm Suite - 1, Laundry Facility, 2.5 Baths', 'Dining Area', 'Master Bedrm Suite - 1', 'Forced air', 'Gas', 'Forced Air 2 Zns or More', 'New Construction Option', 'Dishwasher, Garbage disposal, Microwave, Range / Oven', '2,277 sqft', 'Carpet, Hardwood, Tile', 'Hardwood Floors, Tile, Carpet', 'Garage Door Opener, Water Heater Gas, Fire Sprinklers, Tankless Water Heater', '0', 'Three or More Stories', 'Other', 'Number Restrictions', 'New Construction', 'Single Family', 'RESIDENTIAL', 'Mediterranean', 'Tile', 'Stucco, Wood', 'Stucco, Wood Frame', 'Tile', 'New Under Construction', 'Built in 2019', '0', 'Side Yard', 'Other', '1,376 sqft', 'Level, Zero Lot Line', '51375545', 'FREMONT', 'Attached Garage', 'Attached Garage, Guest Parking', 'Yes', 'Sewer System - Public, Water - Public', '$179/mo', 'Monthly', 'Yes', 'Builder', 'Feb 2020 for $1,599,000', '$702', '2019-11-15', '29', '0 shoppers saved this home']\n",
      "['Single Family', '1993', 'Forced air', 'Central', '3 spaces', '$65/month', '0.27 acres', '4', 'Stall Shower, Solid Surface, Tile, Updated Baths', 'Shower Over Tub, Updated Baths, Solid Surface', 'Dishwasher, Double Oven, Gas Range/Cooktop, Pantry, Range/Oven Built-in, Updated Kitchen, Counter - Stone', 'In Laundry Room', '1 Bath, Laundry Facility, 1 Bedroom, Other, Main Entry', '3 Bedrooms, 2 Baths, Master Bedrm Suite - 1', 'Dining Area, Family Room, Kitchen/Family Combo, Formal Dining Room, Bonus/Plus Room', 'Forced air', 'Central', 'Central 1 Zone A/C', 'Forced Air 1 Zone', 'Dishwasher, Range / Oven', '2,804 sqft', 'Carpet, Hardwood, Linoleum / Vinyl, Tile', 'Linoleum, Hardwood Floors, Tile, Carpet', 'Fireplace', '9', 'Mirrored Closet Door(s)', '1', 'Two Story', 'Other', '1', 'Other', 'Single Family', 'RESIDENTIAL', 'Ranch', 'Tile', 'Brick, Stucco, Vinyl', 'Stucco, Brick, Vinyl Siding', 'Tile', 'Existing', '1993', 'Built in 1993', '2', 'Deck', 'Patio', 'Fenced Yard', 'Garden', 'Deck(s), Patio, Back Yard, Sprinklers Automatic, Fenced, Front Yard, Garden/Play, Side Yard, Terraced Back', 'Mountain, Territorial', 'Hills, Bay, Mountains', '0.27 acres', 'Corner, Cul-De-Sac', '51373453', 'FREMONT', 'Attached Garage, 3 spaces', 'Attached Garage', 'Yes', 'Sewer System - Public, Water - Public', '$65/mo', 'Monthly', 'Yes', 'Public Records', 'Feb 2020 for $1,820,000', '$649', '2019-09-12', '150', '4 shoppers saved this home']\n",
      "['None', 'None', 'None', 'None', 'None', 'None', 'None']\n",
      "['Single Family', '2014', 'Forced air', 'Central', '2 spaces', '$132/month', '1,498 sqft', '3', '2 full, 1 half', 'Stall Shower, Solid Surface, Updated Baths', 'Shower Over Tub, Updated Baths, Solid Surface', 'Dishwasher, Range/Oven Free Standing, Microwave, Gas Range/Cooktop, Pantry, Updated Kitchen, Island, Counter - Stone', 'Laundry Facility, 1 Bedroom, Main Entry', '3 Bedrooms, Master Bedrm Suite - 1, 2.5 Baths', 'Dining Area, Family Room, Kitchen/Family Combo, Formal Dining Room', 'In Closet', 'Forced air', 'Central', 'Central 2 Or 2+ Zones A/C', 'Forced Air 2 Zns or More', 'Dishwasher, Microwave, Range / Oven', '1,712 sqft', 'Hardwood, Linoleum / Vinyl', 'Linoleum, Hardwood Flrs Throughout', '7', '0', 'Three or More Stories', 'Other', '1', 'Other', 'Single Family', 'RESIDENTIAL', 'Composition', 'Stucco', 'Stucco', 'Composition Shingles', 'Existing', '2014', 'Built in 2014', '0', 'Patio', 'Fenced Yard', 'Patio, Fenced, Front Yard, Side Yard', 'Mountain', 'Mountains', '1,498 sqft', 'Other', '525167930', 'FREMONT', 'Attached Garage, 2 spaces', 'Attached Garage', 'Yes', 'Sewer System - Public, Water - Public', '$132/mo', 'Monthly', 'Yes', 'Public Records', 'Feb 2020 for $990,000', '$578', '2020-01-23', '137', '1 shopper saved this home']\n",
      "['None', 'None', 'None', 'None', 'None', 'None', 'None']\n",
      "['Single Family', '1962', 'Forced air', 'Other', 'Attached Garage', 'No Data', '6,120 sqft', '4', 'Stall Shower, Tile, Updated Baths', 'Shower Over Tub, Updated Baths', '220 Volt Outlet, Dishwasher, Electric Range/Cooktop, Garbage Disposal, Range/Oven Built-in, Refrigerator, Updated Kitchen, Breakfast Bar, Counter - Stone, Oven Built-in', 'Laundry Facility, 3 Bedrooms, Main Entry, 2 Baths, Master Bedrm Suite - 1', 'Dining Area', 'In Garage, 220 Volt Outlet', 'Forced air', 'Gas', 'Other', 'Forced Air 1 Zone, Gas', 'Other', 'Dishwasher, Garbage disposal, Range / Oven, Refrigerator', '1,324 sqft', 'Carpet, Hardwood, Linoleum / Vinyl', 'Hardwood Floors, Vinyl, Carpet', 'Fireplace', '7', 'Garage Door Opener, Water Heater Gas, Window Coverings', '1', 'One Story', 'Other', '1', 'Other', 'Single Family', 'RESIDENTIAL', 'Ranch', 'Composition', 'Stucco, Wood', 'Double Pane/Storm Windows', 'Stucco, Wood Siding, Dual Pane Windows', 'Composition Shingles', 'Existing', '1963', 'Built in 1962', '0', 'Patio', 'Fenced Yard', 'Garden', 'Patio Covered, Sprinklers Back, Sprinklers Front, Back Yard, Sprinklers Automatic, Fenced, Front Yard, Garden/Play, Side Yard, Storage, Tool Shed', 'Other', '6,120 sqft', 'Level', '52596938', 'FREMONT', 'Attached Garage', 'Attached Garage, Off Street Parking, Int Access From Garage', 'Yes', 'Sewer System - Public, Water - Public', 'Public Records', 'Feb 2020 for $1,001,000', '$756', '2020-01-20', '164', '0 shoppers saved this home']\n",
      "['Single Family', '1968', 'Forced air', 'None', '2 spaces', 'No Data', '5,662 sqft', '4', 'Stall Shower, Solid Surface, Tile, Updated Baths', 'Shower Over Tub, Tile, Updated Baths, Solid Surface', 'Dishwasher, Counter - Solid Surface, Gas Range/Cooktop, Updated Kitchen', 'In Laundry Room, Hookups Only, 220 Volt Outlet', 'Family Room, Storage', '3 Bedrooms, 2 Baths, Master Bedrm Suite - 1', '1 Bath, 1 Bedroom', 'Forced air', 'Gas', 'None', 'Central Gravity', 'Dishwasher, Range / Oven', '2,319 sqft', 'Laminate, Tile', 'Laminate, Tile', '8', 'Garage Door Opener', '1', 'Two Story', 'Allowed - Yes', '1', 'Contemporary', 'Single Family', 'RESIDENTIAL', 'Contemporary', 'Metal', 'Stucco', 'Double Pane/Storm Windows', 'Stucco, Dual Pane Windows', 'Metal', 'Existing', '2019', 'Built in 1968', '0', 'Patio', 'Patio, Back Yard, Fenced, Front Yard, Side Yard', 'Other', '5,662 sqft', 'Regular', '501179743', 'FREMONT', 'Attached Garage, 2 spaces', 'Attached Garage', 'Yes', 'Sewer System - Public, Water - Public', 'Public Records', 'Feb 2020 for $1,430,000', '$617', '2020-01-10', '248', '3 shoppers saved this home']\n",
      "['Single Family', '1958', 'Forced air', 'Central', 'Attached Garage', 'No Data', '5,000 sqft', '4', 'No Family Room', 'Dining Area in Living Room', 'Forced air', 'Electric', 'Central', 'Central Forced Air', 'Central AC', '1,519 sqft', 'Carpet, Laminate', '5', '1', 'Bungalow', 'Single Family', 'Detached', 'Residential', 'Exclusive Right to Sell', 'Other, Stucco', 'Concrete Slab', 'Shingle', '1959', 'Built in 1958', '0', '5,000 sqft', 'Square Feet', 'Square Feet', '5251634112', 'Attached Garage', 'Attached Garage', 'Public', 'Public Utilities', 'Sewer - Public', '0', 'Other', 'Feb 2020 for $1,310,000', '$862', 'Not Applicable', '129', '1 shopper saved this home']\n"
     ]
    },
    {
     "name": "stdout",
     "output_type": "stream",
     "text": [
      "['None', 'None', 'None', 'None', 'None', 'None', 'None']\n",
      "['Single Family', '1977', 'Forced air', 'None', '2 spaces', 'No Data', '8,001 sqft', '4', 'Tub, Solid Surface, Updated Baths, Shower Over Tub', 'Shower Over Tub, Updated Baths, Solid Surface', 'Dishwasher, Microwave, Counter - Solid Surface, Gas Range/Cooktop, Refrigerator, Updated Kitchen, Island, Counter - Stone', '1 Bath, 1 Bedroom, Main Entry', 'Master Bedrm Suite - 1, 2 Bedrooms, 1 Bedroom', 'Dining Area, Family Room, Kitchen/Family Combo', 'Hookups Only', 'Forced air', 'Gas', 'None', 'Forced Air 1 Zone', 'Dishwasher, Microwave, Range / Oven, Refrigerator', '2,186 sqft', 'Laminate', 'Laminate', 'Fireplace', '8', 'Water Heater Gas', '1', 'Two Story', '1', 'Barbecue Area', 'Wet Bar', 'Contemporary', 'Single Family', 'RESIDENTIAL', 'Traditional', 'Tile', 'Stucco', 'Stucco', 'Tile', 'Existing', '1979', 'Built in 1977', '2', 'Deck', 'Patio', 'Fenced, Front Yard, Side Yard, Tool Shed, Patio Enclosed', 'Territorial', 'Hills', '8,001 sqft', 'Regular', '50750630', 'FREMONT', 'Vallejo Mill Elementary School', 'Centerville Junior High', 'Washington High', 'Fremont (510) 657-2350', 'Attached Garage, 2 spaces', 'Attached Garage', 'Yes', 'Sewer System - Public, Water - Public', 'Public Records', 'Feb 2020 for $1,235,000', '$565', '2019-11-22', '139', '0 shoppers saved this home']\n",
      "['Single Family', '1979', 'Gas', 'No Data', '2 spaces', 'No Data', '5,998 sqft', '4', 'Updated Baths', 'Dishwasher, Electric Range/Cooktop, Breakfast Nook, Double Oven, Updated Kitchen, Counter - Stone', 'In Garage, Hookups Only', 'No Additional Rooms', 'Main Entry, 2 Baths, 4 Bedrooms', 'Gas', 'Ceiling Fan(s)', 'Gas', 'Dishwasher, Range / Oven', '1,871 sqft', 'Carpet, Laminate', 'Laminate, Carpet', 'Fireplace', 'Ceiling Fan', 'Garage Door Opener, Water Heater Gas', '1', 'One Story', '1', 'Contemporary', 'Single Family', 'RESIDENTIAL', 'Contemporary', 'Tile', 'Shingle, Stucco, Wood', 'Stucco, Wood Shingles', 'Tile', 'Existing', '1980', 'Built in 1979', '1', 'Back Yard, Front Yard', '5,998 sqft', 'Regular', '54340811', 'FREMONT', 'Attached Garage, 2 spaces', 'Attached Garage', 'Yes', 'Sewer System - Public, Water - Public', 'Public Records', 'Feb 2020 for $1,330,000', '$711', '2020-01-23', '133', '1 shopper saved this home']\n",
      "['None', 'None', 'None', 'None', 'None', 'None', 'None']\n",
      "['Single Family', '2004', 'Forced air', 'Central', 'Attached Garage', 'No Data', '4,356 sqft', '4', '2 full, 1 half', 'Stall Shower, Tub with Jets, Updated Baths, Sunken Tub', 'Shower Over Tub, Tile', 'Dishwasher, Eat In Kitchen, Breakfast Nook, Double Oven, Island', 'In Laundry Room', '2 Baths, 4 Bedrooms', '0.5 Bath', 'No Additional Rooms', 'Forced air', 'Central', 'Central 2 Or 2+ Zones A/C', 'Forced Air 2 Zns or More', 'Dishwasher', '2,250 sqft', 'Carpet, Tile', 'Hardwood Floors, Tile, Carpet', '10', 'Garage Door Opener, Window Coverings, Mirrored Closet Door(s), Fire Sprinklers', '1', 'Two Story', '1', 'Contemporary', 'Single Family', 'RESIDENTIAL', 'Contemporary', 'Tile', 'Stucco', 'Stucco', 'Tile', 'Existing', '2004', 'Built in 2004', '2', 'Back Yard, Fenced, Front Yard', '4,356 sqft', 'Regular', '87334100', 'UNION CITY', 'Attached Garage', 'Attached Garage', 'Yes', 'Sewer System - Public', 'Public Records', 'Feb 2020 for $1,175,000', '$522', '2019-12-13', '125', '1 shopper saved this home']\n",
      "['Single Family', '1959', 'Forced air', 'Central, None', 'Attached Garage', '$15/month', '7,592 sqft', '5', 'Shower Over Tub, Tile, Updated Baths, Stall Shower', 'Tile, Updated Baths, Shower Over Tub', '220 Volt Outlet, Dishwasher, Electric Range/Cooktop, Garbage Disposal, Counter - Solid Surface, Refrigerator, Ice Maker Hookup, Breakfast Bar', 'In Garage, Hookups Only', 'Main Entry, 3 Baths, 5 Bedrooms, Master Bedrm Suites - 2', 'Workshop, Storage, In-Law Quarters', 'Forced air', 'Gas', 'Central, None', 'Central 1 Zone A/C', 'Forced Air 1 Zone, Gas', 'None basement', 'Dryer, Range / Oven, Refrigerator, Washer', '1,614 sqft', 'Hardwood, Tile', 'Hardwood Floors, Tile', 'Fireplace', '10', 'Garage Door Opener, Water Heater Gas, Other', '1', 'One Story', 'Playground, Pool, Tennis Court(s), Club House', 'Allowed - Yes', '1', 'Barbecue Area', 'Security System', 'Ranch', 'Single Family', 'RESIDENTIAL', 'Ranch', 'Shake/Shingle', 'Brick, Stucco', 'Double Pane/Storm Windows', 'Stucco, Wood Siding, Dual Pane Windows, Wood Frame, Brick Skirt', 'Composition Shingles', 'Existing', '1960', 'Built in 1959', '0', 'Deck', 'Porch', 'Patio', 'Lawn', 'Fenced Yard', 'Deck(s), Patio, Sprinklers Front, Back Yard, Fenced, Front Yard, Side Yard', 'Yes', 'Community Fclty', 'Other', '7,592 sqft', 'Level', '501817562', 'FREMONT', 'Attached Garage', 'Attached Garage, Off Street Parking, Other, Enclosed Garage', 'Yes', 'Cable Ready', 'Sprinkler System', 'Sewer System - Public, Water - Public', '$15/mo', 'Yes', 'Annually', 'Public Records', 'Feb 2020 for $1,100,000', '$682', '2019-08-08', '122', '1 shopper saved this home']\n",
      "['Single Family', '1957', 'Forced air', 'No Data', '2 spaces', 'No Data', '0.42 acres', '5', '3 full, 1 half', 'Counter - Tile, Dishwasher, Microwave, Double Oven, Gas Range/Cooktop, Pantry, Refrigerator, Breakfast Bar, Oven Built-in', 'Dining Area, Family Room, Bonus/Plus Room, Utility Room', 'Dryer, Washer', '3 Baths, 5 Bedrooms', 'Forced air', 'Forced Air 2 Zns or More', 'Ceiling Fan(s)', 'Attic', 'Dishwasher, Dryer, Freezer, Garbage disposal, Microwave, Range / Oven, Refrigerator, Washer', '2,474 sqft', 'Hardwood, Linoleum / Vinyl, Tile', 'Hardwood Floors, Stone (Marble, Slate etc., Tile', 'Fireplace', 'Ceiling Fan', '10', 'Garage Door Opener, Washer, Dryer', '2', 'One Story', '1', 'Barbecue Area', 'Pool', 'Ranch', 'Single Family', 'RESIDENTIAL', 'Composition', 'Brick, Composition, Shingle, Stucco', 'Stucco, Composition Shingles, Brick Skirt', 'Composition Shingles', 'Existing', '1958', 'Built in 1957', '1', 'Porch', 'Patio', 'Lawn', 'Fenced Yard', 'Garden', 'Patio, Back Yard, Fenced, Front Yard, Garden/Play', 'Pool', 'In Ground', 'Yes', '0.42 acres', 'Court, Bay Front / Beach', '52523166', 'FREMONT', 'Off street, On street, Attached Garage, 2 spaces', 'RV Parking', 'Attached Garage, Drive Through Parking, Garage Parking', 'Yes', 'Cable Ready', 'Sprinkler System', 'Water - Public', 'Public Records', 'Mother-in-Law Apartment', 'Feb 2020 for $2,098,000', '$848', '2019-10-04', '141', '0 shoppers saved this home']\n",
      "['Single Family', '1968', 'Forced air', 'Central, Refrigeration', 'On street, Attached Garage', 'No Data', '5,662 sqft', '3', 'Stall Shower, Solid Surface, Tile, Updated Baths', 'Shower Over Tub, Tile, Updated Baths, Solid Surface', 'Dishwasher, Electric Range/Cooktop, Garbage Disposal, Range/Oven Free Standing, Refrigerator, Counter - Laminate, Breakfast Bar', 'Laundry Facility, 3 Bedrooms, Main Entry, 2 Baths, Master Bedrm Suite - 1', 'Kitchen/Family Combo, Workshop, Storage', 'In Garage, Dryer, Washer', 'Forced air', 'Gas', 'Central, Refrigeration', 'Forced Air 1 Zone, Gas', 'Ceiling Fan(s)', 'Dishwasher, Dryer, Freezer, Garbage disposal, Microwave, Range / Oven, Refrigerator, Washer', '1,290 sqft', 'Hardwood, Laminate, Tile', 'Hardwood Floors, Laminate, Tile', 'Fireplace', 'Ceiling Fan', '6', 'Garage Door Opener, Water Heater Gas, Window Coverings, Dryer', '1', 'One Story', '1', 'Hot Tub/Spa', 'Intercom', 'Ranch', 'Single Family', 'RESIDENTIAL', 'Ranch', 'Composition', 'Stucco', 'Double Pane/Storm Windows', 'Stucco', 'Composition Shingles', 'Existing', '1968', 'Built in 1968', '1', 'Deck', 'Patio', 'Lawn', 'Patio Covered, Sprinklers Back, Sprinklers Front, Back Yard, Fenced, Front Yard, Side Yard, Storage, Tool Shed', 'Hot Tub', '5,662 sqft', 'Cul-De-Sac', '54331218', 'FREMONT', 'On street, Attached Garage', 'Attached Garage, RV/Boat Parking, Off Street Parking, Side Yard Access', 'Yes', 'Cable Ready', 'Sprinkler System', 'Sewer System - Public, Water - Public', 'Public Records', 'Feb 2020 for $1,035,000', '$802', '2020-01-16', '121', '0 shoppers saved this home']\n",
      "['Single Family', '1968', 'Forced air', 'Central', '2 spaces', 'No Data', '7,840 sqft', '3', 'Stall Shower', 'Shower Over Tub', 'Dishwasher, Electric Range/Cooktop, Garbage Disposal, Microwave, Breakfast Nook, Refrigerator, Counter - Laminate, Oven Built-in', 'In Laundry Room, Dryer, Washer', 'Dining Area, Family Room, Kitchen/Family Combo', '1 Bedroom, 2 Baths, Master Bedrm Suite - 1, 2 Bedrooms', 'Forced air', 'Central', 'Central 1 Zone A/C', 'Forced Air 1 Zone', 'Dishwasher, Dryer, Garbage disposal, Microwave, Range / Oven, Refrigerator, Washer', '1,733 sqft', 'Hardwood, Linoleum / Vinyl', 'Hardwood Flrs Throughout, Vinyl, Parquet', '7', 'Washer, Dryer', '1', 'One Story', '1', 'Other', 'Single Family', 'RESIDENTIAL', 'Traditional', 'Composition', 'Stucco, Wood', 'Stucco, Wood Frame', 'Composition Shingles', 'Existing', '1968', 'Built in 1968', '0', 'Patio, Back Yard, Fenced, Front Yard', '7,840 sqft', 'Regular', '5073238', 'FREMONT', 'Attached Garage, 2 spaces', 'Attached Garage, Garage Parking', 'Yes', 'Water - Public', 'Public Records', 'Feb 2020 for $1,125,000', '$649', '2020-02-07', '69', '0 shoppers saved this home']\n"
     ]
    },
    {
     "name": "stdout",
     "output_type": "stream",
     "text": [
      "['Single Family', '1964', 'Forced air', 'Central', '2 spaces', 'No Data', '9,970 sqft', '4', 'Stall Shower, Solid Surface, Tile, Updated Baths', 'Shower Over Tub, Updated Baths, Solid Surface, Stall Shower', 'Dishwasher, Electric Range/Cooktop, Double Oven, Range/Oven Built-in, Updated Kitchen, Counter - Stone, Oven Built-in', '1 Bath, Laundry Facility, 1 Bedroom, Main Entry', '3 Bedrooms, 2 Baths, Master Bedrm Suite - 1', 'Dining Area, Family Room, Formal Dining Room', 'In Garage', 'Forced air', 'Central', 'Forced Air 1 Zone', 'Ceiling Fan(s), No Air Conditioning', 'Dishwasher, Range / Oven', '2,160 sqft', 'Carpet, Linoleum / Vinyl, Tile', 'Linoleum, Tile, Carpet', 'Fireplace', 'Ceiling Fan', '8', 'Mirrored Closet Door(s)', '1', 'Two Story', '1', 'Other', 'Single Family', 'RESIDENTIAL', 'Other', 'Composition', 'Brick, Stucco, Wood', 'Stucco, Wood Siding, Brick', 'Composition Shingles', 'Existing', '1966', 'Built in 1964', '0', 'Deck', 'Patio', 'Lawn', 'Fenced Yard', 'Garden', 'Deck(s), Patio, Back Yard, Fenced, Front Yard, Garden/Play, Tool Shed', 'Mountain', 'Mountains', '9,970 sqft', 'Other', '5014427', 'FREMONT', 'Attached Garage, 2 spaces', 'Attached Garage', 'Yes', 'Sewer System - Public, Water - Public', 'Public Records', 'Feb 2020 for $1,401,111', '$649', '2020-01-17', '188', '2 shoppers saved this home']\n",
      "['Single Family', '2016', 'Forced air', 'Central', 'Attached Garage', '$189/month', '1,964 sqft', '4', '3 full, 1 half', 'Shower and Tub, Tile, Master - Stall Shower(s), Master - Sunken Tub', 'Oven Range - Built-In, Garbage Disposal, Pantry, Island, Exhaust Fan, Hood Over Range, Cooktop - Gas, Refrigerator, Countertop - Quartz', 'Dining Area', 'Other', 'Washer / Dryer, In Utility Room', 'Forced air', 'Gas', 'Central', 'Forced Air, Solar', 'Central AC', 'Dryer, Garbage disposal, Range / Oven, Refrigerator, Washer', '2,422 sqft', 'Carpet, Laminate, Tile', 'Tile, Laminate, Carpet', '6', 'High Ceiling, Walk-in Closet', 'Contemporary', 'Single Family', 'Detached', 'Residential', 'Contemporary', 'Exclusive Right to Sell', 'Tile', 'Concrete Slab', 'Tile', 'Stucco', 'Built in 2016', '0', 'Wood', 'Mountain', 'Mountains', 'South', '1,964 sqft', 'Square Feet', 'Square Feet', '50118339', 'Fire System - Sprinkler', 'Attached Garage', 'Attached Garage, Guest / Visitor Parking', 'Public', 'Individual Electric Meters, Public Utilities, Individual Gas Meters, Solar Panels - Leased', 'Sewer - Public', 'Solar Power', '$189/mo', 'Reserves, Common Area Electricity, Insurance - Common Area, Maintenance - Common Area', 'Cabana', '1', '189', 'Monthly', 'Assessor', 'Feb 2020 for $1,155,000', '$477', 'Not Applicable', '101', '0 shoppers saved this home']\n",
      "['Single Family', '1989', 'Forced air', 'Central', '2 spaces', '$80/month', '3,698 sqft', '3', '2 full, 1 half', 'Stall Shower, Tile', 'Shower Over Tub, Tile', '220 Volt Outlet, Eat In Kitchen, Garbage Disposal, Range/Oven Free Standing, Pantry, Refrigerator, Counter - Stone', 'Master Bedrm Suite - 1, 2 Bedrooms, 1 Bath', 'Dining Area', 'In Garage, Hookups Only', '0.5 Bath, Main Entry', 'Forced air', 'Gas', 'Central', 'Central 1 Zone A/C, Ceiling Fan(s)', 'Forced Air 1 Zone, Gas', 'Garbage disposal, Range / Oven, Refrigerator', '1,484 sqft', 'Carpet, Laminate, Tile', 'Laminate, Tile, Carpet', 'Fireplace', 'Vaulted Ceiling', 'Ceiling Fan', '6', 'Garage Door Opener, Water Heater Gas', '1', 'Two Story', 'Greenbelt, Pool, Club House, Spa', '1', 'Pool', 'Contemporary', 'Single Family', 'RESIDENTIAL', 'Contemporary', 'Tile', 'Stucco', 'Double Pane/Storm Windows', 'Stucco', 'Tile', 'Existing', '1989', 'Built in 1989', '0', 'Patio', 'Lawn', 'Fenced Yard', 'Back Yard, Fenced, Front Yard', 'Pool', 'In Ground, Community Fclty', 'Yes', 'Mountain', '3,698 sqft', 'Regular', '519170581', 'Weibel', 'FREMONT', 'Weibel (Fred E.) Elementary School', 'Horner (John M.) Junior High', 'Irvington High School', 'Fremont Unified School District', 'Attached Garage, 2 spaces', 'Attached Garage', 'Yes', 'Sprinkler System', 'Sewer System - Public, Water - Public', '$80/mo', 'Monthly', 'Yes', 'Public Records', 'Feb 2020 for $1,080,000', '$728', '2020-01-16', '72', '0 shoppers saved this home']\n",
      "['Single Family', '1961', 'Forced air', 'Central', '2 spaces', 'No Data', '6,507 sqft', '4', 'Stall Shower, Tile, Updated Baths, Other', 'Shower Over Tub, Tile, Updated Baths, Tub, Other', 'Dishwasher, Range/Oven Free Standing, Counter - Solid Surface, Gas Range/Cooktop, Refrigerator, Ice Maker Hookup, Updated Kitchen', 'Laundry Facility, Main Entry, 2 Baths, Master Bedrm Suite - 1, 4 Bedrooms', 'Dining Area, Family Room', 'Gas Dryer Hookup, In Garage, Hookups Only, 220 Volt Outlet', 'Forced air', 'Gas', 'Central', 'Central 1 Zone A/C, Ceiling Fan(s)', 'Forced Air 1 Zone, Gas', 'Dishwasher, Range / Oven, Refrigerator', '1,698 sqft', 'Concrete, Hardwood, Laminate, Other', 'Hardwood Flrs Throughout, Hardwood Floors, Other, Laminate, Concrete Slab', 'Fireplace', 'Ceiling Fan', '7', 'Garage Door Opener, Water Heater Gas', '1', 'One Story', '1', 'Contemporary', 'Single Family', 'RESIDENTIAL', 'Contemporary', 'Composition', 'Stucco, Wood', 'Double Pane/Storm Windows', 'Stucco, Wood Siding, Dual Pane Windows', 'Composition Shingles', 'Existing', '1962', 'Built in 1961', '0', 'Deck', 'Patio', 'Fenced Yard', 'Deck(s), Patio, Sprinklers Back, Back Yard, Sprinklers Automatic, Fenced, Front Yard, Storage, Tool Shed', '6,507 sqft', 'Level, Regular', '525235107', 'FREMONT', 'Attached Garage, 2 spaces', 'Attached Garage', 'Yes', 'Sewer System - Public, Water - Public', 'Public Records', 'Feb 2020 for $1,555,000', '$916', '2020-01-18', '167', '0 shoppers saved this home']\n",
      "['None', 'None', 'None', 'None', 'None', 'None', 'None']\n",
      "['None', 'None', 'None', 'None', 'None', 'None', 'None']\n",
      "['Single Family', '1989', 'Forced air', 'Central', 'Attached Garage', 'None', '3,813 sqft', '4', '2 full, 1 half', 'Dishwasher, Eat In Kitchen, Garbage Disposal, Microwave, Breakfast Nook, Counter - Solid Surface, Gas Range/Cooktop, Pantry, Counter - Stone', 'In Laundry Room', '2 Baths, 4 Bedrooms', 'Family Room, Formal Dining Room', '0.5 Bath', 'Forced air', 'Gas', 'Central', 'Central 1 Zone A/C', 'Forced Air 1 Zone', 'Attic', 'Freezer, Microwave, Range / Oven, Refrigerator, Trash compactor, Washer', '1,789 sqft', 'Carpet, Hardwood, Tile', 'Laminate, Tile, Carpet', 'Fireplace', 'Vaulted Ceiling', '7', 'Other', '2', 'Two Story', '1', 'Barbecue Area', 'Security System', 'Contemporary', 'Single Family', 'RESIDENTIAL', 'Craftsman', 'Tile', 'Wood', 'Double Pane/Storm Windows', 'Tile', 'Other', 'Existing', '1989', 'Built in 1989', '2', 'Patio', 'Lawn', 'Fenced Yard', 'Garden', 'Patio, Patio Covered, Back Yard, Fenced, Front Yard', 'Mountain', '3,813 sqft', 'Level, Regular', '50780244', 'FREMONT', 'Attached Garage', 'Attached Garage', 'Yes', 'Sprinkler System', 'Sewer System - Public, Water - Public', '$0/mo', 'Public Records', 'Feb 2020 for $1,236,227', '$691', '2020-01-16', '187', '1 shopper saved this home']\n",
      "['Single Family', '1987', 'Forced air', 'No Data', '1 space', '$285/month', '7.6 acres', '1', 'Forced air', 'Range / Oven', '716 sqft', 'Laminate, Tile', '3', '50', 'Tennis Court', 'Other', 'Single Family', 'Tile', 'Stucco', '1987', 'Built in 1987', '0', '7.6 acres', '2', '543444253', 'Attached Garage, 1 space', '$285/mo', 'Feb 2020 for $480,000', '$670', 'Electricity not included in rent, Gas not included in rent', '996', '17 shoppers saved this home']\n",
      "['None', 'None', 'None', 'None', 'None', 'None', 'None']\n",
      "['Single Family', '1991', 'Forced air', 'None', 'Attached Garage', '$48/month', '3,484 sqft', '4', '2 full, 1 half', 'Stall Shower, Tub, Solid Surface, Tile', 'Tile, Solid Surface, Stall Shower', 'Counter - Tile, Dishwasher, Electric Range/Cooktop, Garbage Disposal', 'Laundry Facility, 0.5 Bath, Main Entry', '3 Bedrooms, 2 Baths', 'Dining Area, Kitchen/Family Combo, Den', 'In Garage, 220 Volt Outlet', 'Forced air', 'Gas', 'None', 'Forced Air 1 Zone', 'Dishwasher, Garbage disposal, Range / Oven', '1,826 sqft', 'Laminate, Linoleum / Vinyl', 'Engineered Wood', '7', 'Water Heater Gas, Mirrored Closet Door(s)', '1', 'Two Story', 'Other', '1', 'Contemporary', 'Single Family', 'RESIDENTIAL', 'Contemporary', 'Tile', 'Wood', 'Tile', 'Wood Siding', 'Existing', '1991', 'Built in 1991', '2', 'Back Yard, Sprinklers Automatic, Fenced, Front Yard', '3,484 sqft', 'Level', '54325179', 'FREMONT', 'Attached Garage', 'Attached Garage, Parking Spaces', 'Yes', 'Sewer System - Public, Water - Public', '$48/mo', 'Monthly', 'Yes', 'Public Records', 'Feb 2020 for $1,120,000', '$613', '2019-10-24', '131', '2 shoppers saved this home']\n"
     ]
    },
    {
     "name": "stdout",
     "output_type": "stream",
     "text": [
      "['Single Family', '1954', 'Forced air', 'No Data', 'Attached Garage', 'No Data', '6,716 sqft', '4', 'Shower Over Tub, Solid Surface', 'Solid Surface, Shower Over Tub', 'Dishwasher, Eat In Kitchen, Gas Range/Cooktop, Refrigerator, Ice Maker Hookup, Updated Kitchen, Breakfast Bar, Island, Counter - Stone, Self-Cleaning Oven', 'Laundry Facility, 3 Bedrooms, Main Entry, 2 Baths, Master Bedrm Suite - 1, No Steps to Entry', 'Dining Area, Family Room, Kitchen/Family Combo', 'In Garage, Dryer, Washer', '1 Bath, 1 Bedroom, Loft, Master Bedrm Suites - 2', 'Forced air', 'Gas', 'Forced Air 1 Zone', 'Ceiling Fan(s)', 'Dishwasher, Dryer, Range / Oven, Refrigerator, Washer', '1,900 sqft', 'Carpet, Laminate', 'Laminate, Carpet', '8', 'Water Heater Gas, Washer, Dryer', '0', 'Two Story', '1', 'Contemporary', 'Single Family', 'RESIDENTIAL', 'Contemporary', 'Composition', 'Stucco', 'Stucco, Dual Pane Windows', 'Composition Shingles', 'Existing', '1984', 'Built in 1954', '0', 'Patio, Back Yard, Fenced, Dog Run, Front Yard, Side Yard, Tool Shed, Patio Enclosed', '6,716 sqft', 'Regular', '5014031', 'FREMONT', 'Attached Garage', 'Attached Garage, Off Street Parking, Int Access From Garage', 'Yes', 'Sewer System - Public, Water - Public', 'Public Records', 'Feb 2020 for $940,000', '$495', '2020-01-09', '123', '0 shoppers saved this home']\n"
     ]
    }
   ],
   "source": [
    "#details after opening each url of a house\n",
    "lotsize_sold2 = []\n",
    "year_sold2 = []\n",
    "ac_sold2 = []\n",
    "heat_sold2 = []\n",
    "park_sold2 = []\n",
    "\n",
    "hoa_sold2 = []\n",
    "bath_sold2 = []\n",
    "\n",
    "elem_sold2 = []\n",
    "mid_sold2 =[]\n",
    "high_sold2=[]\n",
    "\n",
    "elem_s_sold2=[]\n",
    "mid_s_sold2=[]\n",
    "high_s_sold2=[]\n",
    "\n",
    "for url in sold_urllist[40:80]:\n",
    "    #print(url)\n",
    "    req_sold2 = Request(url, headers = {'user-Agent':'Mozilla/5.0'})\n",
    "    text_sold2 = urlopen(req_sold2).read().decode(encoding=\"utf-8\", errors='ignore')\n",
    "    soup_sold2 = BS(text_sold2, 'html.parser')\n",
    "    \n",
    "    #iterate all house url on first page, and scrape the lot_size, year, ac, heater, garage, price/sqft info\n",
    "    home_values_sold2 = soup_sold2.findAll('div', attrs = {'class':'fact-value'})\n",
    "    hv_ls_sold2 = []\n",
    "    for value in home_values_sold2:\n",
    "        hv_ls_sold2.append(value.get_text())   \n",
    "    if len(hv_ls_sold2) == 0:\n",
    "        hv_ls_sold2 = ['None']*7\n",
    "    #print(hv_ls_sold2)   \n",
    "    lotsize_sold2.append(hv_ls_sold2[6])\n",
    "    hoa_sold2.append(hv_ls_sold2[5])\n",
    "    year_sold2.append(hv_ls_sold2[1])\n",
    "    ac_sold2.append(hv_ls_sold2[3])\n",
    "    heat_sold2.append(hv_ls_sold2[2])\n",
    "    park_sold2.append(hv_ls_sold2[4])\n",
    "\n",
    "    \n",
    "\n",
    "    #scrape school info    \n",
    "    schools2 = soup_sold2.findAll('li', attrs = {'class':'nearby-school assigned-school clearfix'})\n",
    "    if len(schools2) == 0:\n",
    "        scl2 = ['None', 'None', 'None']\n",
    "        scl_score2 = ['None', 'None', 'None']\n",
    "    else:\n",
    "        scl2 = ['None', 'None', 'None']\n",
    "        scl_score2 = ['None', 'None', 'None']\n",
    "        for school in schools2:  \n",
    "            #print(school.span.get_text())\n",
    "            grade = school.findAll('div')[5].get_text()\n",
    "            if grade == 'K-6' or grade == 'K-5' or grade == 'K-8':\n",
    "                scl2[0] = school.a.get_text()\n",
    "                scl_score2[0] = school.span.get_text()\n",
    "            if grade == '7-8' or grade == '6-8':\n",
    "                scl2[1] = school.a.get_text()\n",
    "                scl_score2[1] = school.span.get_text()\n",
    "            if grade == '9-12':\n",
    "                scl2[2] = school.a.get_text()\n",
    "                scl_score2[2] = school.span.get_text()\n",
    "    elem_sold2.append(scl2[0])\n",
    "    mid_sold2.append(scl2[1])\n",
    "    high_sold2.append(scl2[2])\n",
    "    elem_s_sold2.append(scl_score2[0])\n",
    "    mid_s_sold2.append(scl_score2[1])\n",
    "    high_s_sold2.append(scl_score2[2])\n"
   ]
  },
  {
   "cell_type": "code",
   "execution_count": 20,
   "metadata": {},
   "outputs": [
    {
     "data": {
      "text/plain": [
       "40"
      ]
     },
     "execution_count": 20,
     "metadata": {},
     "output_type": "execute_result"
    }
   ],
   "source": [
    "len(lotsize_sold2)"
   ]
  },
  {
   "cell_type": "code",
   "execution_count": 21,
   "metadata": {},
   "outputs": [],
   "source": [
    "lotsize_sold=lotsize_sold1+lotsize_sold2\n",
    "year_sold=year_sold1+year_sold2\n",
    "ac_sold=ac_sold1+ac_sold2\n",
    "heat_sold=heat_sold1+heat_sold2\n",
    "park_sold=park_sold1+park_sold2\n",
    "hoa_sold=hoa_sold1+hoa_sold2\n",
    "elem_sold=elem_sold1+elem_sold2\n",
    "mid_sold=mid_sold1+mid_sold2\n",
    "high_sold=high_sold1+high_sold2\n",
    "elem_s_sold=elem_s_sold1+elem_s_sold2\n",
    "mid_s_sold=mid_s_sold1+mid_s_sold2\n",
    "high_s_sold=high_s_sold1+high_s_sold2\n",
    "neighborhood_sold=neighborhood_sold1+neighborhood_sold2"
   ]
  },
  {
   "cell_type": "code",
   "execution_count": 22,
   "metadata": {},
   "outputs": [],
   "source": [
    "#add a columns to the empty dataframe\n",
    "soldhouse_df['bds']=bds_sold\n",
    "soldhouse_df['bath']=bath_sold\n",
    "soldhouse_df['areas']=areas_sold\n",
    "soldhouse_df['lot_size']=lotsize_sold\n",
    "soldhouse_df['year_built']=year_sold\n",
    "soldhouse_df['a/c']=ac_sold\n",
    "soldhouse_df['heater']=heat_sold\n",
    "soldhouse_df['garage']=park_sold\n",
    "soldhouse_df['elem_score']=elem_s_sold\n",
    "soldhouse_df['middle_score']=mid_s_sold\n",
    "soldhouse_df['high_score']=high_s_sold\n",
    "soldhouse_df['elem_school'] = elem_sold\n",
    "soldhouse_df['middle_school'] = mid_sold\n",
    "soldhouse_df['high_school'] = high_sold\n",
    "soldhouse_df['sold_price'] = price_ls_sold\n",
    "soldhouse_df['HOA'] = hoa_sold\n",
    "soldhouse_df['address']=adr_ls_sold\n",
    "soldhouse_df['date_sold']=sold_dates"
   ]
  },
  {
   "cell_type": "code",
   "execution_count": 23,
   "metadata": {},
   "outputs": [
    {
     "data": {
      "text/plain": [
       "80"
      ]
     },
     "execution_count": 23,
     "metadata": {},
     "output_type": "execute_result"
    }
   ],
   "source": [
    "len(bath_sold)"
   ]
  },
  {
   "cell_type": "code",
   "execution_count": 63,
   "metadata": {},
   "outputs": [],
   "source": [
    "#save data on excel file\n",
    "with pd.ExcelWriter('zillow_data.xlsx') as writer:  \n",
    "    house_df.to_excel(writer, sheet_name='on_market_data')\n",
    "    soldhouse_df.to_excel(writer, sheet_name='sold_data')\n",
    "writer.save()"
   ]
  },
  {
   "cell_type": "code",
   "execution_count": 66,
   "metadata": {},
   "outputs": [],
   "source": [
    "market_df = pd.read_excel('zillow_data.xlsx', sheet_name='on_market_data', index_col=[0])"
   ]
  },
  {
   "cell_type": "code",
   "execution_count": 67,
   "metadata": {},
   "outputs": [],
   "source": [
    "market_df.drop(35, inplace=True)\n",
    "market_df.bds = market_df.bds.apply(lambda x: x.split(' ')[0]).astype(int)\n",
    "market_df.bath = market_df.bath.apply(lambda x: x.split(' ')[0]).astype(float)\n",
    "market_df.areas = market_df.areas.apply(lambda x: x.split(' ')[0].replace(\",\", \"\")).astype(float)\n",
    "market_df.lot_size = market_df.lot_size.apply(lambda x: x.split(' ')[0].replace(\",\", \"\")).astype(float)\n",
    "market_df.lot_size = market_df.lot_size.apply(lambda x: round(x*43560,2) if x < 100 else x)#it has acre value in it\n",
    "market_df.rename(columns={'a/c': 'central_ac'}, inplace=True)\n",
    "market_df.central_ac = market_df.central_ac.apply(lambda x: 1 if x == 'Central' else 0)\n",
    "market_df.rename(columns={'heater': 'central_heat'}, inplace=True)\n",
    "market_df.central_heat = market_df.central_heat.apply(lambda x: 1 if 'Forced air' in x else 0)\n",
    "market_df.price = market_df.price.str[1:].apply(lambda x: x.replace(\",\", \"\")).astype(float)\n",
    "market_df.rename(columns={'price/sqft': 'price_per_sqft'}, inplace=True)\n",
    "price_38 = '$'+(market_df.price[38]/market_df.areas[38]).round(2).astype(str)\n",
    "market_df.loc[38, 'price_per_sqft']= price_38\n",
    "market_df.price_per_sqft=market_df.price_per_sqft.apply(lambda x: x.split('$')[1].replace(\",\", \"\")).astype(float)\n",
    "market_df.HOA = market_df.HOA.apply(lambda x: 0 if x == 'No Data' or x == 'None' else float(re.findall('\\d+', x)[0]))"
   ]
  },
  {
   "cell_type": "code",
   "execution_count": 69,
   "metadata": {},
   "outputs": [],
   "source": [
    "school_df = pd.concat([market_df['elem_school'], market_df['middle_school'], market_df['high_school']], axis=1)"
   ]
  },
  {
   "cell_type": "code",
   "execution_count": 70,
   "metadata": {},
   "outputs": [
    {
     "data": {
      "text/plain": [
       "middle_school                       high_school                   elem_school                        \n",
       "Centerville Junior High             Washington High School        Niles Elementary School                4\n",
       "                                                                  Parkmont Elementary School             3\n",
       "                                                                  Vallejo Mill Elementary School         2\n",
       "G. M. Walters Junior High School    John F. Kennedy High School   Brier Elementary School                2\n",
       "                                                                  J. Haley Durham Elementary School      1\n",
       "                                                                  John Blacow Elementary School          1\n",
       "                                                                  John G. Mattos Elementary School       1\n",
       "John M. Horner Junior High School   Irvington High School         Harvey Green Elementary School         1\n",
       "                                                                  None                                   4\n",
       "                                                                  O. N. Hirsch Elementary School         3\n",
       "Thornton Junior High School         American High School          Ardenwood Elementary School            1\n",
       "                                                                  Brookvale Elementary School            4\n",
       "                                                                  Forest Park Elementary School          1\n",
       "                                                                  Oliveira Elementary School             2\n",
       "                                                                  Warwick Elementary School              2\n",
       "William Hopkins Junior High School  Mission San Jose High School  John Gomes Elementary School           2\n",
       "                                                                  Joshua Chadbourne Elementary School    1\n",
       "                                                                  Mission San Jose Elementary School     1\n",
       "                                                                  Mission Valley Elementary School       3\n",
       "Name: high_school, dtype: int64"
      ]
     },
     "execution_count": 70,
     "metadata": {},
     "output_type": "execute_result"
    }
   ],
   "source": [
    "school_df.groupby(['middle_school','high_school', 'elem_school'])['high_school'].count()"
   ]
  },
  {
   "cell_type": "markdown",
   "metadata": {},
   "source": [
    "##### From school information we come to a conclusion that one middle school corresponding to one high school and many elementary school. so we need to find out what elementary school for the null value elementary school is."
   ]
  },
  {
   "cell_type": "code",
   "execution_count": 107,
   "metadata": {},
   "outputs": [
    {
     "data": {
      "text/plain": [
       "Series([], Name: address, dtype: object)"
      ]
     },
     "execution_count": 107,
     "metadata": {},
     "output_type": "execute_result"
    }
   ],
   "source": [
    "market_df[market_df['elem_school']=='None'].address"
   ]
  },
  {
   "cell_type": "code",
   "execution_count": 105,
   "metadata": {},
   "outputs": [
    {
     "data": {
      "text/plain": [
       "Series([], Name: address, dtype: object)"
      ]
     },
     "execution_count": 105,
     "metadata": {},
     "output_type": "execute_result"
    }
   ],
   "source": [
    "market_df[market_df['middle_school']=='None'].address"
   ]
  },
  {
   "cell_type": "code",
   "execution_count": 106,
   "metadata": {},
   "outputs": [
    {
     "data": {
      "text/plain": [
       "Series([], Name: address, dtype: object)"
      ]
     },
     "execution_count": 106,
     "metadata": {},
     "output_type": "execute_result"
    }
   ],
   "source": [
    "market_df[market_df['high_school']=='None'].address"
   ]
  },
  {
   "cell_type": "markdown",
   "metadata": {},
   "source": [
    "After checking 3 address on the 'www.myschoollocation.com'. We found that all 4 address has the same elementary schools, Leitch elementary school (k-2) and Warm Springs Elementary School (3-6).\n",
    "Leitch elementary school (k-2) A in niche, equal 9 score in great school rating.\n",
    "Warm Springs Elementary School (3-6) 9 score in great school rating, so the avg score for k-6 in warm spring is 9. \n",
    "so we can replace the None value with 9."
   ]
  },
  {
   "cell_type": "code",
   "execution_count": 72,
   "metadata": {},
   "outputs": [],
   "source": [
    "market_df['elem_school'].replace('None', 'Leitch elementary school + Warm Springs Elementary School', inplace=True)\n",
    "market_df['elem_score'].replace('None', 9, inplace=True)"
   ]
  },
  {
   "cell_type": "code",
   "execution_count": 73,
   "metadata": {},
   "outputs": [],
   "source": [
    "market_df[['elem_score', 'middle_score', 'high_score']]=market_df[['elem_score', 'middle_score', 'high_score']].astype(int)"
   ]
  },
  {
   "cell_type": "code",
   "execution_count": 74,
   "metadata": {},
   "outputs": [
    {
     "data": {
      "text/plain": [
       "2 spaces           23\n",
       "Attached Garage     6\n",
       "3 spaces            4\n",
       "4 spaces            3\n",
       "1 space             2\n",
       "Detached Garage     1\n",
       "Name: garage, dtype: int64"
      ]
     },
     "execution_count": 74,
     "metadata": {},
     "output_type": "execute_result"
    }
   ],
   "source": [
    "market_df.garage.value_counts()"
   ]
  },
  {
   "cell_type": "code",
   "execution_count": 75,
   "metadata": {},
   "outputs": [],
   "source": [
    "market_df.garage.replace('No Data', '0', inplace=True)"
   ]
  },
  {
   "cell_type": "code",
   "execution_count": 76,
   "metadata": {},
   "outputs": [],
   "source": [
    "market_df.garage = market_df.garage.apply(lambda x: 2 if len(re.findall('\\d', x))==0 else int(re.findall('\\d', x)[0])) \n",
    "#replace attached and detached garage with park spaces 2 spaces(most frequent)."
   ]
  },
  {
   "cell_type": "code",
   "execution_count": 77,
   "metadata": {},
   "outputs": [],
   "source": [
    "sold_df = pd.read_excel('zillow_data.xlsx', sheet_name='sold_data', index_col=[0])"
   ]
  },
  {
   "cell_type": "code",
   "execution_count": 79,
   "metadata": {},
   "outputs": [],
   "source": [
    "sold_df.bds = sold_df.bds.apply(lambda x: 0 if x == 'Studio' else x.split(' ')[0]).astype(int)\n",
    "#after checked this house, we found the bath number is 3, so replace the none value with 3\n",
    "sold_df.bath.replace('-- ba', '3 ba', inplace=True)\n",
    "sold_df.bath = sold_df.bath.apply(lambda x: x.split(' ')[0]).astype(float)\n",
    "sold_df.areas = sold_df.areas.apply(lambda x: x.split(' ')[0].replace(\",\", \"\")).astype(float)\n",
    "#too many null value in this row, so we should just delete it\n",
    "sold_df.drop(sold_df[sold_df.lot_size=='None'].index, inplace=True)"
   ]
  },
  {
   "cell_type": "code",
   "execution_count": 80,
   "metadata": {},
   "outputs": [
    {
     "data": {
      "text/html": [
       "<div>\n",
       "<style scoped>\n",
       "    .dataframe tbody tr th:only-of-type {\n",
       "        vertical-align: middle;\n",
       "    }\n",
       "\n",
       "    .dataframe tbody tr th {\n",
       "        vertical-align: top;\n",
       "    }\n",
       "\n",
       "    .dataframe thead th {\n",
       "        text-align: right;\n",
       "    }\n",
       "</style>\n",
       "<table border=\"1\" class=\"dataframe\">\n",
       "  <thead>\n",
       "    <tr style=\"text-align: right;\">\n",
       "      <th></th>\n",
       "      <th>bds</th>\n",
       "      <th>bath</th>\n",
       "      <th>areas</th>\n",
       "      <th>lot_size</th>\n",
       "      <th>year_built</th>\n",
       "      <th>a/c</th>\n",
       "      <th>heater</th>\n",
       "      <th>garage</th>\n",
       "      <th>elem_score</th>\n",
       "      <th>middle_score</th>\n",
       "      <th>high_score</th>\n",
       "      <th>elem_school</th>\n",
       "      <th>middle_school</th>\n",
       "      <th>high_school</th>\n",
       "      <th>sold_price</th>\n",
       "      <th>HOA</th>\n",
       "      <th>address</th>\n",
       "      <th>date_sold</th>\n",
       "    </tr>\n",
       "  </thead>\n",
       "  <tbody>\n",
       "    <tr>\n",
       "      <th>23</th>\n",
       "      <td>4</td>\n",
       "      <td>3.0</td>\n",
       "      <td>2105.0</td>\n",
       "      <td>No Data</td>\n",
       "      <td>2015</td>\n",
       "      <td>Central</td>\n",
       "      <td>Forced air</td>\n",
       "      <td>Attached Garage</td>\n",
       "      <td>9</td>\n",
       "      <td>10</td>\n",
       "      <td>10</td>\n",
       "      <td>John Gomes Elementary School</td>\n",
       "      <td>William Hopkins Junior High School</td>\n",
       "      <td>Mission San Jose High School</td>\n",
       "      <td>$1.38M</td>\n",
       "      <td>$234/month</td>\n",
       "      <td>2839 Casita Ter, Fremont, CA 94539</td>\n",
       "      <td>03/03/2020</td>\n",
       "    </tr>\n",
       "  </tbody>\n",
       "</table>\n",
       "</div>"
      ],
      "text/plain": [
       "    bds  bath   areas lot_size year_built      a/c      heater  \\\n",
       "23    4   3.0  2105.0  No Data       2015  Central  Forced air   \n",
       "\n",
       "             garage elem_score middle_score high_score  \\\n",
       "23  Attached Garage          9           10         10   \n",
       "\n",
       "                     elem_school                       middle_school  \\\n",
       "23  John Gomes Elementary School  William Hopkins Junior High School   \n",
       "\n",
       "                     high_school sold_price         HOA  \\\n",
       "23  Mission San Jose High School     $1.38M  $234/month   \n",
       "\n",
       "                               address   date_sold  \n",
       "23  2839 Casita Ter, Fremont, CA 94539  03/03/2020  "
      ]
     },
     "execution_count": 80,
     "metadata": {},
     "output_type": "execute_result"
    }
   ],
   "source": [
    "sold_df[sold_df.lot_size=='No Data']"
   ]
  },
  {
   "cell_type": "code",
   "execution_count": 84,
   "metadata": {},
   "outputs": [],
   "source": [
    "sold_df.loc[23, 'lot_size'] = '2,105 sqft' # checked on zillow, replaced no data with floor size"
   ]
  },
  {
   "cell_type": "code",
   "execution_count": 85,
   "metadata": {},
   "outputs": [],
   "source": [
    "sold_df.lot_size = sold_df.lot_size.apply(lambda x: x.split(' ')[0].replace(\",\", \"\")).astype(float)\n",
    "sold_df.lot_size = sold_df.lot_size.apply(lambda x: round(x*43560,2) if x < 100 else x)#it has acre value in it\n",
    "sold_df.rename(columns={'a/c': 'central_ac'}, inplace=True)\n",
    "sold_df.central_ac = sold_df.central_ac.apply(lambda x: 1 if x == 'Central' else 0)\n",
    "sold_df.rename(columns={'heater': 'central_heat'}, inplace=True)\n",
    "sold_df.central_heat = sold_df.central_heat.apply(lambda x: 1 if 'Forced air' in x else 0)\n",
    "sold_df.sold_price = sold_df.sold_price.str[1:].apply(lambda x: float(re.findall('(\\d+[.,]\\d+)M$', x)[0])*1000000 if 'M' in x else float(x.replace(',','')))"
   ]
  },
  {
   "cell_type": "code",
   "execution_count": 86,
   "metadata": {},
   "outputs": [],
   "source": [
    "sold_df.HOA = sold_df.HOA.apply(lambda x: 0 if x == 'No Data' or x == 'None' else float(re.findall('\\d+', x)[0]))"
   ]
  },
  {
   "cell_type": "code",
   "execution_count": 87,
   "metadata": {},
   "outputs": [],
   "source": [
    "sold_df.garage.replace('No Data', '0', inplace=True)"
   ]
  },
  {
   "cell_type": "code",
   "execution_count": 88,
   "metadata": {},
   "outputs": [],
   "source": [
    "sold_df.garage.value_counts()\n",
    "sold_df.garage = sold_df.garage.apply(lambda x: 2 if len(re.findall('\\d', x))==0 else int(re.findall('\\d', x)[0]))"
   ]
  },
  {
   "cell_type": "code",
   "execution_count": 97,
   "metadata": {},
   "outputs": [
    {
     "data": {
      "text/plain": [
       "datetime.date(2020, 3, 11)"
      ]
     },
     "execution_count": 97,
     "metadata": {},
     "output_type": "execute_result"
    }
   ],
   "source": [
    "datetime.strptime(sold_df.date_sold[0], '%m/%d/%Y').date()"
   ]
  },
  {
   "cell_type": "code",
   "execution_count": 99,
   "metadata": {},
   "outputs": [],
   "source": [
    "#find out where the date time format is not correct.\n",
    "for (i, x) in enumerate(sold_df.date_sold):\n",
    "    try:\n",
    "        i, datetime.strptime(x, '%m/%d/%Y').date()\n",
    "    except:\n",
    "        print(i, \"An exception occurred\")"
   ]
  },
  {
   "cell_type": "code",
   "execution_count": 102,
   "metadata": {},
   "outputs": [],
   "source": [
    "sold_df.date_sold = sold_df.date_sold.apply(lambda x: datetime.strptime(x, '%m/%d/%Y').date())"
   ]
  },
  {
   "cell_type": "code",
   "execution_count": 110,
   "metadata": {},
   "outputs": [
    {
     "data": {
      "text/plain": [
       "12    872 Lippert Ave, Fremont, CA 94539\n",
       "14    155 Camphor Ave, Fremont, CA 94539\n",
       "Name: address, dtype: object"
      ]
     },
     "execution_count": 110,
     "metadata": {},
     "output_type": "execute_result"
    }
   ],
   "source": [
    "sold_df[sold_df['elem_school']=='None'].address"
   ]
  },
  {
   "cell_type": "markdown",
   "metadata": {},
   "source": [
    "After checking 2 address on the 'www.myschoollocation.com'. We found that all 2 address has the same elementary schools, Leitch elementary school (k-2) and Warm Springs Elementary School (3-6). Leitch elementary school (k-2) A in niche, equal 9 score in great school rating. Warm Springs Elementary School (3-6) 9 score in great school rating, so the avg score for k-6 in warm spring is 9. so we can replace the None value with 9."
   ]
  },
  {
   "cell_type": "code",
   "execution_count": 111,
   "metadata": {},
   "outputs": [],
   "source": [
    "sold_df['elem_school'].replace('None', 'Leitch elementary school + Warm Springs Elementary School', inplace=True)\n",
    "sold_df['elem_score'].replace('None', 9, inplace=True)"
   ]
  },
  {
   "cell_type": "code",
   "execution_count": 112,
   "metadata": {},
   "outputs": [],
   "source": [
    "sold_df[['elem_score', 'middle_score', 'high_score']]=sold_df[['elem_score', 'middle_score', 'high_score']].astype(int)"
   ]
  },
  {
   "cell_type": "code",
   "execution_count": 114,
   "metadata": {},
   "outputs": [],
   "source": [
    "#save data on excel file\n",
    "with pd.ExcelWriter('cleaned_data.xlsx') as writer:  \n",
    "    market_df.to_excel(writer, sheet_name='on_market_data')\n",
    "    sold_df.to_excel(writer, sheet_name='sold_data')\n",
    "writer.save()"
   ]
  }
 ],
 "metadata": {
  "kernelspec": {
   "display_name": "Python 3",
   "language": "python",
   "name": "python3"
  },
  "language_info": {
   "codemirror_mode": {
    "name": "ipython",
    "version": 3
   },
   "file_extension": ".py",
   "mimetype": "text/x-python",
   "name": "python",
   "nbconvert_exporter": "python",
   "pygments_lexer": "ipython3",
   "version": "3.7.3"
  }
 },
 "nbformat": 4,
 "nbformat_minor": 2
}
